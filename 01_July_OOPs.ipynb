{
 "cells": [
  {
   "cell_type": "markdown",
   "id": "760b15f0",
   "metadata": {},
   "source": [
    "### 1. What is the primary goal of Object-Oriented Programming (OOP)?"
   ]
  },
  {
   "cell_type": "markdown",
   "id": "5128534a",
   "metadata": {},
   "source": [
    "Ans- The primary goal of OOP is to organize the design of a software program around objects and to create a modular,reusable and maintainable program.  \n",
    "\n",
    "Primary features of OOPs is  \n",
    "1- Encapsulation  \n",
    "2- Abstraction  \n",
    "3- Inheritance  \n",
    "4- Polymorphism  "
   ]
  },
  {
   "cell_type": "markdown",
   "id": "f6a948a4",
   "metadata": {},
   "source": [
    "### 2-What is an object in Python?"
   ]
  },
  {
   "cell_type": "markdown",
   "id": "75b16ea3",
   "metadata": {},
   "source": [
    "Ans- Object is an instance of a class. Python is an object oriented programming language which means everything in Python is and object.  \n",
    "Features of an object in Python  \n",
    "1- Attributes - Properties that stores information about the object.  \n",
    "2- Methods - Functions that operate on the object  \n",
    "3- Type - It determines the type of object like string,integer  \n",
    "5- Identity- Every object has its own unique identity   "
   ]
  },
  {
   "cell_type": "markdown",
   "id": "a463e2af",
   "metadata": {},
   "source": [
    "### 3- What is a class in Python?"
   ]
  },
  {
   "cell_type": "markdown",
   "id": "2ff60c0f",
   "metadata": {},
   "source": [
    "#### Ans- \n",
    "\n",
    "Class is the blueprint of an object.  \n",
    "It contains information about the properties and different methods that can be used on that object.  "
   ]
  },
  {
   "cell_type": "code",
   "execution_count": 2,
   "id": "436611a9",
   "metadata": {},
   "outputs": [],
   "source": [
    "# Example of a class\n",
    "\n",
    "class Student:\n",
    "    #Constructor\n",
    "    def __init__(self,name,roll_no):\n",
    "        #Instance attributes\n",
    "        self.name = name\n",
    "        self.roll_no = roll_no\n",
    "    \n",
    "    #Instance methods\n",
    "    def play_cricket(self):\n",
    "        print(f'{self.name} plays cricket')\n",
    "        \n",
    "    "
   ]
  },
  {
   "cell_type": "code",
   "execution_count": 3,
   "id": "a6f4d990",
   "metadata": {},
   "outputs": [],
   "source": [
    "s1 = Student(\"XYZ\",'123')"
   ]
  },
  {
   "cell_type": "code",
   "execution_count": 5,
   "id": "edd6edf1",
   "metadata": {},
   "outputs": [
    {
     "name": "stdout",
     "output_type": "stream",
     "text": [
      "XYZ plays cricket\n"
     ]
    }
   ],
   "source": [
    "s1.play_cricket()"
   ]
  },
  {
   "cell_type": "markdown",
   "id": "0cd73e52",
   "metadata": {},
   "source": [
    "### 4- What are attributes and methods in a class?"
   ]
  },
  {
   "cell_type": "markdown",
   "id": "736aca33",
   "metadata": {},
   "source": [
    "#### Ans\n",
    "\n",
    "Attributes - Attributes gives information about the properties of an object.  \n",
    "For the example we have given above name and roll no. are the attributes of an object as they provide the information about an instance of the class.\n",
    "\n",
    "Methods-  Methods as the operations that we can perform on an object. \n",
    "In the example we have given above method play_cricket() is used to perform operation on the instance of the class.\n",
    "\n",
    "Together they define the structure and behaviour of the object created from that class.  \n"
   ]
  },
  {
   "cell_type": "markdown",
   "id": "e1216cff",
   "metadata": {},
   "source": [
    "### 5. What is the difference between class variables and instance variables in Python?"
   ]
  },
  {
   "cell_type": "markdown",
   "id": "bdd8a870",
   "metadata": {},
   "source": [
    "#### Ans\n",
    "\n",
    "#### Instance Variables- \n",
    "\n",
    "1- These are associated with specific instance of a class.  \n",
    "2- Each instance have its own copy of instance variables. Changing the instance variable of one class doesnot change the instance variable of another class.  \n",
    "3- They are accessed through the instance of the class.  \n",
    "\n",
    "#### Class Variables-\n",
    "\n",
    "1- They are associated with the class itself and they can be accessed through all the instances of that class.  \n",
    "2- Changing class variable in one instance will change it in all the instances of the class.  \n",
    "3- They can be accessed through the class and instance of the class both.  \n",
    "\n"
   ]
  },
  {
   "cell_type": "code",
   "execution_count": 36,
   "id": "fb6942aa",
   "metadata": {},
   "outputs": [],
   "source": [
    "## Example\n",
    "\n",
    "class Car:\n",
    "    wheels = 4\n",
    "    def __init__(self,brand,type):\n",
    "        self.brand = brand\n",
    "        self.type = type\n",
    "    \n",
    "    def display_details(self):\n",
    "        print(f'Car with brand:{self.brand} and type: {self.type} has {self.wheels} wheels')\n",
    "        \n",
    "    "
   ]
  },
  {
   "cell_type": "code",
   "execution_count": 37,
   "id": "5fc69532",
   "metadata": {},
   "outputs": [],
   "source": [
    "Car1 = Car(\"Tata\",\"EV\")"
   ]
  },
  {
   "cell_type": "code",
   "execution_count": 38,
   "id": "018f87c9",
   "metadata": {},
   "outputs": [],
   "source": [
    "Car2 = Car(\"Kia\",\"Diesel\")"
   ]
  },
  {
   "cell_type": "code",
   "execution_count": 39,
   "id": "3f54df8b",
   "metadata": {},
   "outputs": [
    {
     "name": "stdout",
     "output_type": "stream",
     "text": [
      "Car with brand:Tata and type: EV has 4 wheels\n"
     ]
    }
   ],
   "source": [
    "Car1.display_details()"
   ]
  },
  {
   "cell_type": "code",
   "execution_count": 40,
   "id": "f318c057",
   "metadata": {},
   "outputs": [
    {
     "name": "stdout",
     "output_type": "stream",
     "text": [
      "Car with brand:Kia and type: Diesel has 4 wheels\n"
     ]
    }
   ],
   "source": [
    "Car2.display_details()"
   ]
  },
  {
   "cell_type": "code",
   "execution_count": 41,
   "id": "01b0db77",
   "metadata": {},
   "outputs": [],
   "source": [
    "## Updating Instance variables\n",
    "\n",
    "Car1.type = \"Petrol\""
   ]
  },
  {
   "cell_type": "code",
   "execution_count": 42,
   "id": "ab65e7ca",
   "metadata": {},
   "outputs": [
    {
     "name": "stdout",
     "output_type": "stream",
     "text": [
      "Car with brand:Tata and type: Petrol has 4 wheels\n",
      "Car with brand:Kia and type: Diesel has 4 wheels\n"
     ]
    }
   ],
   "source": [
    "## Updating one Instance variables does not change the value of another instance variables\n",
    "Car1.display_details()\n",
    "Car2.display_details()\n"
   ]
  },
  {
   "cell_type": "code",
   "execution_count": 43,
   "id": "ea00f3c0",
   "metadata": {},
   "outputs": [],
   "source": [
    "## Updating class variable\n",
    "\n",
    "Car.wheels = 6"
   ]
  },
  {
   "cell_type": "code",
   "execution_count": 45,
   "id": "52eda3e6",
   "metadata": {},
   "outputs": [
    {
     "name": "stdout",
     "output_type": "stream",
     "text": [
      "Car with brand:Tata and type: Petrol has 6 wheels\n",
      "Car with brand:Kia and type: Diesel has 6 wheels\n"
     ]
    }
   ],
   "source": [
    "## Updating class vraibles will change the values in all the instances of the class\n",
    "Car1.display_details()\n",
    "Car2.display_details()\n"
   ]
  },
  {
   "cell_type": "markdown",
   "id": "b180c0ff",
   "metadata": {},
   "source": [
    "### 6. What is the purpose of the self parameter in Python class methods?"
   ]
  },
  {
   "cell_type": "markdown",
   "id": "b8104187",
   "metadata": {},
   "source": [
    "#### Ans\n",
    "1- Self is used to refer the current instance of the class.  \n",
    "2- This is used to call the attributes and methods of the object which called the method.  \n",
    "3- This ensures that attributes of the object are binded to the current object and not to the class. \n",
    "4- When we call a method from an object then the object name is passed as the first argument of the method and it is stored in the self parameter of the function.Which can then be used to call the attributes and methods of that object.  \n",
    "\n",
    "\n"
   ]
  },
  {
   "cell_type": "markdown",
   "id": "2f17342e",
   "metadata": {},
   "source": [
    "### 7. For a library management system, you have to design the \"Book\" class with OOP principles in mind. The “Book” class will have following attributes:\n",
    "a. title: Represents the title of the book.  \n",
    "b. author: Represents the author(s) of the book.  \n",
    "c. isbn: Represents the ISBN (International Standard Book Number) of the book.  \n",
    "d. publication_year: Represents the year of publication of the book.  \n",
    "e. available_copies: Represents the number of copies available for checkout.  \n",
    "The class will also include the following methods:  \n",
    "a. check_out(self): Decrements the available copies by one if there are copies\n",
    "available for checkout.  \n",
    "b. return_book(self): Increments the available copies by one when a book is\n",
    "returned.  \n",
    "c. display_book_info(self): Displays the information about the book, including its\n",
    "attributes and the number of available copies.  "
   ]
  },
  {
   "cell_type": "code",
   "execution_count": 5,
   "id": "32c9d236",
   "metadata": {},
   "outputs": [],
   "source": [
    "\n",
    "class Book:\n",
    "    def __init__(self,title,author,isbn,publication_year,available_copies):\n",
    "        self.title = title\n",
    "        self.author = author\n",
    "        self.isbn = isbn\n",
    "        self.publication_year = publication_year\n",
    "        self.available_copies = available_copies\n",
    "        \n",
    "    def check_out(self):\n",
    "        self.available_copies-=1\n",
    "    \n",
    "    def return_copy(self):\n",
    "        self.available_copies+=1\n",
    "        \n",
    "    def display_book_info(self):\n",
    "        print(f'Book with title:{self.title} ISBN no. {self.isbn} and written by {self.author} has {self.available_copies} copies available')\n",
    "    "
   ]
  },
  {
   "cell_type": "code",
   "execution_count": 6,
   "id": "12b2a85f",
   "metadata": {},
   "outputs": [],
   "source": [
    "Book1 = Book(\"Alchemist\",\"Paulo Coelho\",\"12Ab\",\"1988\",20)"
   ]
  },
  {
   "cell_type": "code",
   "execution_count": 7,
   "id": "1afcfb30",
   "metadata": {},
   "outputs": [
    {
     "name": "stdout",
     "output_type": "stream",
     "text": [
      "Book with title:Alchemist ISBN no. 12Ab and written by Paulo Coelho has 20 copies available\n"
     ]
    }
   ],
   "source": [
    "Book1.display_book_info()"
   ]
  },
  {
   "cell_type": "code",
   "execution_count": 8,
   "id": "a7309618",
   "metadata": {},
   "outputs": [],
   "source": [
    "Book1.check_out()"
   ]
  },
  {
   "cell_type": "code",
   "execution_count": 9,
   "id": "c725c3e2",
   "metadata": {},
   "outputs": [
    {
     "name": "stdout",
     "output_type": "stream",
     "text": [
      "Book with title:Alchemist ISBN no. 12Ab and written by Paulo Coelho has 19 copies available\n"
     ]
    }
   ],
   "source": [
    "Book1.display_book_info()"
   ]
  },
  {
   "cell_type": "code",
   "execution_count": 10,
   "id": "7891bc7c",
   "metadata": {},
   "outputs": [],
   "source": [
    "Book1.return_copy()"
   ]
  },
  {
   "cell_type": "markdown",
   "id": "17a9d2df",
   "metadata": {},
   "source": [
    "### 8. For a ticket booking system, you have to design the \"Ticket\" class with OOP principles in mind. The “Ticket” class should have the following attributes:\n",
    "a. ticket_id: Represents the unique identifier for the ticket.  \n",
    "b. event_name: Represents the name of the event.  \n",
    "c. event_date: Represents the date of the event.  \n",
    "d. venue: Represents the venue of the event.  \n",
    "e. seat_number: Represents the seat number associated with the ticket.  \n",
    "f. price: Represents the price of the ticket.  \n",
    "g. is_reserved: Represents the reservation status of the ticket.  \n",
    "The class also includes the following methods:  \n",
    "a. reserve_ticket(self): Marks the ticket as reserved if it is not already reserved.  \n",
    "b. cancel_reservation(self): Cancels the reservation of the ticket if it is already reserved.  \n",
    "c. display_ticket_info(self): Displays the information about the ticket, including its\n",
    "attributes and reservation status.  "
   ]
  },
  {
   "cell_type": "code",
   "execution_count": 12,
   "id": "0a884e75",
   "metadata": {},
   "outputs": [],
   "source": [
    "class Ticket:\n",
    "    def __init__(self,ticket_id,event_name,event_date,venue,seat_number,price,is_reserved):\n",
    "        self.ticket_id=ticket_id\n",
    "        self.event_name=event_name\n",
    "        self.event_date=event_date\n",
    "        self.venue=venue\n",
    "        self.seat_number=seat_number\n",
    "        self.price=price\n",
    "        self.is_reserved=is_reserved\n",
    "        \n",
    "    def reserve_ticket(self):\n",
    "        self.is_reserved = 'Reserved'\n",
    "        print('Ticket is reserved')\n",
    "        \n",
    "    def cancel_reservation(self):\n",
    "        self.is_reserved = 'Reservation Cancelled'\n",
    "        print(\"Reservation cancelled\")\n",
    "        \n",
    "    def display_ticket_info(self):\n",
    "        print(f'Ticket: {self.ticket_id} Event name:{self.event_name} Event Date:{self.event_name} Seat Number:{self.seat_number} Reservation Status: {self.is_reserved}')\n",
    "    "
   ]
  },
  {
   "cell_type": "code",
   "execution_count": 13,
   "id": "9a9d33a5",
   "metadata": {},
   "outputs": [],
   "source": [
    "Ticket1 = Ticket(\"1ABC\",\"Movie\",\"5 Aug 2024\",\"Delhi\",\"G3\",100,'Reserved')"
   ]
  },
  {
   "cell_type": "code",
   "execution_count": 14,
   "id": "46080e86",
   "metadata": {},
   "outputs": [
    {
     "name": "stdout",
     "output_type": "stream",
     "text": [
      "Ticket: 1ABC Event name:Movie Event Date:Movie Seat Number:G3 Reservation Status: Reserved\n"
     ]
    }
   ],
   "source": [
    "Ticket1.display_ticket_info()"
   ]
  },
  {
   "cell_type": "code",
   "execution_count": 16,
   "id": "5995481e",
   "metadata": {},
   "outputs": [
    {
     "name": "stdout",
     "output_type": "stream",
     "text": [
      "Reservation cancelled\n"
     ]
    }
   ],
   "source": [
    "Ticket1.cancel_reservation()"
   ]
  },
  {
   "cell_type": "code",
   "execution_count": 17,
   "id": "59f9ce0b",
   "metadata": {},
   "outputs": [
    {
     "name": "stdout",
     "output_type": "stream",
     "text": [
      "Ticket: 1ABC Event name:Movie Event Date:Movie Seat Number:G3 Reservation Status: Reservation Cancelled\n"
     ]
    }
   ],
   "source": [
    "Ticket1.display_ticket_info()"
   ]
  },
  {
   "cell_type": "markdown",
   "id": "0bb30b05",
   "metadata": {},
   "source": [
    "### 9. You are creating a shopping cart for an e-commerce website. Using OOP to model the \"ShoppingCart\" functionality the class should contain following attributes and methods:\n",
    "a. items: Represents the list of items in the shopping cart.  \n",
    "The class also includes the following methods:  \n",
    "a. add_item(self, item): Adds an item to the shopping cart by appending it to the list of items.  \n",
    "b. remove_item(self, item): Removes an item from the shopping cart if it exists in the list.  \n",
    "c. view_cart(self): Displays the items currently present in the shopping cart.  \n",
    "d. clear_cart(self): Clears all items from the shopping cart by reassigning an empty list to the items attribute.  "
   ]
  },
  {
   "cell_type": "code",
   "execution_count": 25,
   "id": "5ffb064c",
   "metadata": {},
   "outputs": [],
   "source": [
    "class ShoppingCart:\n",
    "    def __init__(self):\n",
    "        ## Intializing the list of items with zero item\n",
    "        self.items = []\n",
    "        \n",
    "    def add_item(self,item):\n",
    "        ## Adding items to the list \n",
    "        self.items.append(item)\n",
    "        print(f'Item: {item} is added to the list')\n",
    "    \n",
    "    def remove_item(self,item):\n",
    "        if item in self.items:\n",
    "            self.items.remove(item)\n",
    "            print(f'Item: {item} removed from the list')\n",
    "        else:\n",
    "            print(f'Item does not exist')\n",
    "            \n",
    "    def view_cart(self):\n",
    "        if self.items:\n",
    "            print('Shopping List Items')\n",
    "            for i in self.items:\n",
    "                print(i)\n",
    "        else:\n",
    "            print(f'Shopping cart is empty')\n",
    "        \n",
    "    def clear_cart(self):\n",
    "        #Updating list with zero items\n",
    "        self.items = []\n",
    "        print('Cart cleared')\n",
    "\n",
    "        "
   ]
  },
  {
   "cell_type": "code",
   "execution_count": 26,
   "id": "eb39a7e9",
   "metadata": {},
   "outputs": [],
   "source": [
    "cart1 = ShoppingCart()"
   ]
  },
  {
   "cell_type": "code",
   "execution_count": 27,
   "id": "e9b71abc",
   "metadata": {},
   "outputs": [
    {
     "name": "stdout",
     "output_type": "stream",
     "text": [
      "Item: Apple is added to the list\n"
     ]
    }
   ],
   "source": [
    "cart1.add_item('Apple')"
   ]
  },
  {
   "cell_type": "code",
   "execution_count": 28,
   "id": "77730f1e",
   "metadata": {},
   "outputs": [
    {
     "name": "stdout",
     "output_type": "stream",
     "text": [
      "Item: Mango is added to the list\n"
     ]
    }
   ],
   "source": [
    "cart1.add_item('Mango')"
   ]
  },
  {
   "cell_type": "code",
   "execution_count": 29,
   "id": "9e7576e1",
   "metadata": {},
   "outputs": [
    {
     "name": "stdout",
     "output_type": "stream",
     "text": [
      "Shopping List Items\n",
      "Apple\n",
      "Mango\n"
     ]
    }
   ],
   "source": [
    "cart1.view_cart()"
   ]
  },
  {
   "cell_type": "code",
   "execution_count": 30,
   "id": "0f2ba18b",
   "metadata": {},
   "outputs": [
    {
     "name": "stdout",
     "output_type": "stream",
     "text": [
      "Cart cleared\n"
     ]
    }
   ],
   "source": [
    "cart1.clear_cart()"
   ]
  },
  {
   "cell_type": "markdown",
   "id": "ff6ead46",
   "metadata": {},
   "source": [
    "### 10. Imagine a school management system. You have to design the \"Student\" class using OOP concepts.The “Student” class has the following attributes:\n",
    "a. name: Represents the name of the student.  \n",
    "b. age: Represents the age of the student.  \n",
    "c. grade: Represents the grade or class of the student.  \n",
    "d. student_id: Represents the unique identifier for the student.  \n",
    "e. attendance: Represents the attendance record of the student.  \n",
    "The class should also include the following methods:  \n",
    "a. update_attendance(self, date, status): Updates the attendance record of the student for a given date with the provided status (e.g., present or absent).  \n",
    "b. get_attendance(self): Returns the attendance record of the student.  \n",
    "c. get_average_attendance(self): Calculates and returns the average attendance percentage of the student based on their attendance record.  "
   ]
  },
  {
   "cell_type": "code",
   "execution_count": 113,
   "id": "b788cca0",
   "metadata": {},
   "outputs": [],
   "source": [
    "class Student:\n",
    "    def __init__(self,name,age,grade,student_id):\n",
    "        self.name=name\n",
    "        self.age=age\n",
    "        self.grade=grade\n",
    "        self.student_id=student_id\n",
    "        self.attendance = {}\n",
    "        \n",
    "    def update_attendance(self,date,status):\n",
    "        self.attendance[date]=status\n",
    "        print(f'Attendance updated for {self.name} for {date} with status: {status} ')\n",
    "    \n",
    "    def get_attendance(self):\n",
    "        print(f'{self.name} Attendance')\n",
    "        for key,value in self.attendance.items():\n",
    "            print(f'{key}:{value}')\n",
    "            \n",
    "\n",
    "    def get_average_attendance(self):\n",
    "        total_days = len(self.attendance)\n",
    "        #print(total_days)\n",
    "        present_days = sum(1 for i in self.attendance.values() if i.lower()=='present')\n",
    "        #print(present_days)\n",
    "        return (present_days/total_days)*100"
   ]
  },
  {
   "cell_type": "code",
   "execution_count": 114,
   "id": "fe122524",
   "metadata": {},
   "outputs": [],
   "source": [
    "s1 = Student(\"John\",12,'A','1A')"
   ]
  },
  {
   "cell_type": "code",
   "execution_count": 115,
   "id": "62fd3115",
   "metadata": {},
   "outputs": [
    {
     "name": "stdout",
     "output_type": "stream",
     "text": [
      "Attendance updated for John for 2024-08-01 with status: present \n"
     ]
    }
   ],
   "source": [
    "s1.update_attendance('2024-08-01','present')"
   ]
  },
  {
   "cell_type": "code",
   "execution_count": 116,
   "id": "4eb9cfac",
   "metadata": {},
   "outputs": [
    {
     "name": "stdout",
     "output_type": "stream",
     "text": [
      "Attendance updated for John for 2024-08-02 with status: Present \n"
     ]
    }
   ],
   "source": [
    "s1.update_attendance('2024-08-02','Present')"
   ]
  },
  {
   "cell_type": "code",
   "execution_count": 117,
   "id": "57a9f96e",
   "metadata": {},
   "outputs": [
    {
     "name": "stdout",
     "output_type": "stream",
     "text": [
      "Attendance updated for John for 2024-08-03 with status: Absent \n"
     ]
    }
   ],
   "source": [
    "s1.update_attendance('2024-08-03','Absent')"
   ]
  },
  {
   "cell_type": "code",
   "execution_count": 118,
   "id": "fb248eef",
   "metadata": {},
   "outputs": [
    {
     "name": "stdout",
     "output_type": "stream",
     "text": [
      "Attendance updated for John for 2024-08-04 with status: Present \n"
     ]
    }
   ],
   "source": [
    "s1.update_attendance('2024-08-04','Present')"
   ]
  },
  {
   "cell_type": "code",
   "execution_count": 119,
   "id": "de3a7e9a",
   "metadata": {},
   "outputs": [
    {
     "name": "stdout",
     "output_type": "stream",
     "text": [
      "John Attendance\n",
      "2024-08-01:present\n",
      "2024-08-02:Present\n",
      "2024-08-03:Absent\n",
      "2024-08-04:Present\n"
     ]
    }
   ],
   "source": [
    "s1.get_attendance()"
   ]
  },
  {
   "cell_type": "code",
   "execution_count": 120,
   "id": "5de70bf6",
   "metadata": {},
   "outputs": [
    {
     "data": {
      "text/plain": [
       "75.0"
      ]
     },
     "execution_count": 120,
     "metadata": {},
     "output_type": "execute_result"
    }
   ],
   "source": [
    "s1.get_average_attendance()"
   ]
  },
  {
   "cell_type": "code",
   "execution_count": null,
   "id": "ca533c0d",
   "metadata": {},
   "outputs": [],
   "source": []
  },
  {
   "cell_type": "code",
   "execution_count": null,
   "id": "8608db69",
   "metadata": {},
   "outputs": [],
   "source": []
  }
 ],
 "metadata": {
  "kernelspec": {
   "display_name": "Python 3 (ipykernel)",
   "language": "python",
   "name": "python3"
  },
  "language_info": {
   "codemirror_mode": {
    "name": "ipython",
    "version": 3
   },
   "file_extension": ".py",
   "mimetype": "text/x-python",
   "name": "python",
   "nbconvert_exporter": "python",
   "pygments_lexer": "ipython3",
   "version": "3.9.12"
  }
 },
 "nbformat": 4,
 "nbformat_minor": 5
}
