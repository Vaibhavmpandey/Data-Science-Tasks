{
 "cells": [
  {
   "cell_type": "markdown",
   "id": "da8ebf25",
   "metadata": {},
   "source": [
    "### 1. In the below elements which of them are values or an expression? eg:- values can be\n",
    "### integer or string and expressions will be mathematical operators.\n",
    "*\n",
    "&#39;hello&#39;\n",
    "-87.8\n",
    "-\n",
    "/\n",
    "+\n",
    "6"
   ]
  },
  {
   "cell_type": "markdown",
   "id": "4dc3fcd2",
   "metadata": {},
   "source": [
    "### Ans1-\n",
    "\n",
    "Values - 'hello',-87.8,6  \n",
    "Expressions- *,-,/,+"
   ]
  },
  {
   "cell_type": "markdown",
   "id": "63d5243f",
   "metadata": {},
   "source": [
    "### 2-What is the difference between string and variable?"
   ]
  },
  {
   "cell_type": "markdown",
   "id": "d417a624",
   "metadata": {},
   "source": [
    "### Ans-2\n",
    "\n",
    "#### String -\n",
    "A string is a datatype that is used to represent sequence of characters. Strings are enclosed within quotation marks.\n",
    "\n",
    "#### Variable-\n",
    "Variables are named storage location that holds a value.\n",
    "In case of Python variables are used to store and manipulate data.\n",
    "Variable have a data type based on the values stored in it.\n"
   ]
  },
  {
   "cell_type": "markdown",
   "id": "17192f9d",
   "metadata": {},
   "source": [
    "### 3. Describe three different data types."
   ]
  },
  {
   "cell_type": "markdown",
   "id": "a66f6448",
   "metadata": {},
   "source": [
    "### Ans-3\n",
    "\n",
    "#### Integer\n",
    "\n",
    "Integer data type represents the whole number values. It can be positive ,negative or zero but without any decimal places.  \n",
    "Examples  \n",
    "x=4  \n",
    "y=-3  \n",
    "\n",
    "#### Strings\n",
    "A string is a datatype that is used to represent sequence of characters. Strings are enclosed within quotation marks.  \n",
    "Example  \n",
    "name = 'Allen'    \n",
    "\n",
    "#### Floats\n",
    "Floats are real number which have decimal points.  \n",
    "Example  \n",
    "X = 4.5  \n",
    "\n",
    "#### Boolean\n",
    "Boolean data type only represents True or False values.   \n",
    "Example  \n",
    "passed = True  \n",
    "\n",
    "\n"
   ]
  },
  {
   "cell_type": "markdown",
   "id": "5b044a25",
   "metadata": {},
   "source": [
    "### 4. What is an expression made up of? What do all expressions do?"
   ]
  },
  {
   "cell_type": "markdown",
   "id": "f777c20f",
   "metadata": {},
   "source": [
    "#### Ans-4\n",
    "In Python expressions is a combination of Values, Variables, Operators, and function calls.\n",
    "\n",
    "Expression are evaluated to produce a result.This result can then be assigned to some other variable.\n",
    "Examples\n",
    "\n",
    "resultant = 4*(5+9)\n",
    "\n",
    "In this 4,5,9 are values and + and * are operators and together this expression is evaluated to produce a result which is then assigned to variable resultant"
   ]
  },
  {
   "cell_type": "markdown",
   "id": "cf40c7f9",
   "metadata": {},
   "source": [
    "###  5. This assignment statements, like spam = 10. What is the difference between an expression and a statement?"
   ]
  },
  {
   "cell_type": "markdown",
   "id": "d0431ea3",
   "metadata": {},
   "source": [
    "### Ans-5\n",
    "\n",
    "In the statement spam = 10, It is completely a statement that performs the task of assigning value to the variable spam while 10 is an expression which when evaluated gives value of 10.  \n",
    "\n",
    "So expressions consists of Values, Variables, Operators, and function calls which when evaluated gives a result. While statements may or may not produce result. Expression are generally part of a statement."
   ]
  },
  {
   "cell_type": "markdown",
   "id": "150c5cf3",
   "metadata": {},
   "source": [
    "### 6. After running the following code, what does the variable bacon contain?\n",
    "### bacon = 22\n",
    "### bacon + 1\n"
   ]
  },
  {
   "cell_type": "markdown",
   "id": "42bf319f",
   "metadata": {},
   "source": [
    "### Ans-6\n",
    "22\n",
    "\n",
    "This is because bacon is not updated after addition so it will have same value as earlier"
   ]
  },
  {
   "cell_type": "code",
   "execution_count": 3,
   "id": "797ccfa8",
   "metadata": {},
   "outputs": [
    {
     "name": "stdout",
     "output_type": "stream",
     "text": [
      "22\n"
     ]
    }
   ],
   "source": [
    "bacon = 22\n",
    "bacon + 1\n",
    "print(bacon)"
   ]
  },
  {
   "cell_type": "markdown",
   "id": "27c75fd2",
   "metadata": {},
   "source": [
    "### 7. What should the values of the following two terms be?\n",
    "### 'spam' + 'spamspam'\n",
    "### 'spam' * 3\n"
   ]
  },
  {
   "cell_type": "markdown",
   "id": "f3b99830",
   "metadata": {},
   "source": [
    "### Ans-7\n",
    "\n",
    "'spam' + 'spamspam'  \n",
    "In this case both the strings are concatenated to perform a new string 'spamspamspam'\n",
    "\n",
    "'spam' * 3  \n",
    "In this case the string 'spam' is repeated 3 times without any spaces between them\n",
    "\n"
   ]
  },
  {
   "cell_type": "code",
   "execution_count": 4,
   "id": "34717b66",
   "metadata": {},
   "outputs": [
    {
     "data": {
      "text/plain": [
       "'spamspamspam'"
      ]
     },
     "execution_count": 4,
     "metadata": {},
     "output_type": "execute_result"
    }
   ],
   "source": [
    "'spam'+'spamspam'"
   ]
  },
  {
   "cell_type": "code",
   "execution_count": 5,
   "id": "5097da81",
   "metadata": {},
   "outputs": [
    {
     "data": {
      "text/plain": [
       "'spamspamspam'"
      ]
     },
     "execution_count": 5,
     "metadata": {},
     "output_type": "execute_result"
    }
   ],
   "source": [
    "'spam'*3"
   ]
  },
  {
   "cell_type": "markdown",
   "id": "0f070fba",
   "metadata": {},
   "source": [
    "### 8. Why is eggs a valid variable name while 100 is invalid?"
   ]
  },
  {
   "cell_type": "markdown",
   "id": "a4753dd4",
   "metadata": {},
   "source": [
    "### Ans-8\n",
    "\n",
    "In Python according to convention a variable names can start only with Letter or underscore.  \n",
    "In case of eggs it is starting with letters hence this variable name is correct while 100 is starting with number so it is not \n",
    "a valid variable name. "
   ]
  },
  {
   "cell_type": "markdown",
   "id": "54abb873",
   "metadata": {},
   "source": [
    "### 9. What three functions can be used to get the integer, floating-point number, or string version of a value?"
   ]
  },
  {
   "cell_type": "markdown",
   "id": "68306a5e",
   "metadata": {},
   "source": [
    "### Ans-9\n",
    "\n",
    "#### int()\n",
    "This function is used to convert value from other datatype in integer datatype.\n",
    "Example\n",
    "x = int(4.2)\n",
    "\n",
    "#### float()\n",
    "This function is used to convert value from other datatype in float datatype.\n",
    "Example\n",
    "y = float('4')\n",
    "\n",
    "#### str()\n",
    "This function is used to convert value from other datatype in string datatype.\n",
    "z = str(4.3)"
   ]
  },
  {
   "cell_type": "markdown",
   "id": "d375f177",
   "metadata": {},
   "source": [
    "#### 10. Why does this expression cause an error? How can you fix it?\n",
    "#### 'I have eaten ' + 99 + ' burritos.'\n"
   ]
  },
  {
   "cell_type": "markdown",
   "id": "bb366bfc",
   "metadata": {},
   "source": [
    "### Ans-10\n",
    "\n",
    "This function will cause an error because 'I have eaten ' and ' burritos.' are of string type but 99 is integer hence it is not\n",
    "possible to concatenate string with integer in Python.\n",
    "\n",
    "To concatenate them we have to explicitly convert 99 to string using str(99)"
   ]
  }
 ],
 "metadata": {
  "kernelspec": {
   "display_name": "Python 3 (ipykernel)",
   "language": "python",
   "name": "python3"
  },
  "language_info": {
   "codemirror_mode": {
    "name": "ipython",
    "version": 3
   },
   "file_extension": ".py",
   "mimetype": "text/x-python",
   "name": "python",
   "nbconvert_exporter": "python",
   "pygments_lexer": "ipython3",
   "version": "3.9.13"
  }
 },
 "nbformat": 4,
 "nbformat_minor": 5
}
