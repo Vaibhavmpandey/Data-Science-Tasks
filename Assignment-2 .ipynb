{
 "cells": [
  {
   "cell_type": "markdown",
   "id": "0379b2b8",
   "metadata": {},
   "source": [
    "### 1.What are the two values of the Boolean data type? How do you write them?"
   ]
  },
  {
   "cell_type": "markdown",
   "id": "19f97762",
   "metadata": {},
   "source": [
    "### Ans\n",
    "\n",
    "The two values of Boolean data type are True and False  \n",
    "They are written as True and False without any inverted commas"
   ]
  },
  {
   "cell_type": "code",
   "execution_count": 2,
   "id": "7e9b0563",
   "metadata": {},
   "outputs": [
    {
     "name": "stdout",
     "output_type": "stream",
     "text": [
      "True\n"
     ]
    }
   ],
   "source": [
    "## Example\n",
    "num1 =10\n",
    "num2 = 5\n",
    "res = False\n",
    "if (num1>num2):\n",
    "    res = True\n",
    "else:\n",
    "    res = False\n",
    "    \n",
    "print(res)\n",
    "    "
   ]
  },
  {
   "cell_type": "markdown",
   "id": "50c7994c",
   "metadata": {},
   "source": [
    "### 2. What are the three different types of Boolean operators?"
   ]
  },
  {
   "cell_type": "markdown",
   "id": "9b33af0c",
   "metadata": {},
   "source": [
    "### Ans  \n",
    "The three different types of Boolean operators are \n",
    "\n",
    "1- AND \n",
    "2- OR\n",
    "3- NOT\n",
    "\n",
    "### AND \n",
    "AND operator returns True when both the conditions are True and it returns False even if any one of the condition is False.  \n",
    "True && True = True\n",
    "\n",
    "### OR\n",
    "OR operator returns True when one of the two conditions are True or both the conditions are True.  \n",
    "True || False = True\n",
    "\n",
    "### NOT\n",
    "NOT operator is used on single operand and it returns True if the given value is False and False when the given boolean value is True.  \n",
    "x = True  \n",
    "not x = False\n",
    "\n",
    "\n",
    "\n"
   ]
  },
  {
   "cell_type": "markdown",
   "id": "bb5ac630",
   "metadata": {},
   "source": [
    "### 3. Make a list of each Boolean operator's truth tables (i.e. every possible combination of Boolean values for the operator and what it evaluate )."
   ]
  },
  {
   "cell_type": "markdown",
   "id": "7abbaa94",
   "metadata": {},
   "source": [
    "### Ans\n",
    "\n",
    "List of Truth tables for all boolean operators are:\n",
    "\n",
    "1- AND  \n",
    "\n",
    "A | B | A and B  \n",
    "0 | 0 |  0  \n",
    "0 | 1 |  0  \n",
    "1 | 0 |  1  \n",
    "1 | 1 |  1  \n",
    "\n",
    "2- OR  \n",
    "\n",
    "A | B | A or B  \n",
    "0 | 0 |  0  \n",
    "0 | 1 |  1  \n",
    "1 | 0 |  1  \n",
    "1 | 1 |  1  \n",
    "\n",
    "3- NOT  \n",
    "\n",
    "A | not A  \n",
    "0 | 1  \n",
    "1 | 0  \n",
    "\n",
    "4- XOR(exclusive OR)  \n",
    "\n",
    "A | B | A and B  \n",
    "0 | 0 |  0  \n",
    "0 | 1 |  1  \n",
    "1 | 0 |  1  \n",
    "1 | 1 |  0  \n",
    "\n",
    "\n"
   ]
  },
  {
   "cell_type": "markdown",
   "id": "81c1b6c2",
   "metadata": {},
   "source": [
    "### 4. What are the values of the following expressions?\n",
    "(5 > 4) and (3 == 5)  \n",
    "not (5 > 4)  \n",
    "(5 > 4) or (3 == 5)  \n",
    "not ((5 > 4) or (3 == 5))  \n",
    "(True and True) and (True == False)  \n",
    "(not False) or (not True)  \n"
   ]
  },
  {
   "cell_type": "markdown",
   "id": "b5597a28",
   "metadata": {},
   "source": [
    "### Ans\n",
    "\n",
    "1- (5 > 4) and (3 == 5) = False    \n",
    "2- not (5 > 4) = False  \n",
    "3- (5 > 4) or (3 == 5) = True  \n",
    "4- not ((5 > 4) or (3 == 5)) = False  \n",
    "5- (True and True) and (True == False) = False  \n",
    "6- (not False) or (not True) = True  "
   ]
  },
  {
   "cell_type": "markdown",
   "id": "1803a01a",
   "metadata": {},
   "source": [
    "### 5. What are the six comparison operators?"
   ]
  },
  {
   "cell_type": "markdown",
   "id": "6ed8734d",
   "metadata": {},
   "source": [
    "### Ans\n",
    "\n",
    "1- Greater than '>'  \n",
    "2- Less than '<'  \n",
    "3- Greater than or equal to '>='  \n",
    "4- Less than or equal to '<='  \n",
    "5- Equal to '=='  \n",
    "6- Not equal to '!='  "
   ]
  },
  {
   "cell_type": "markdown",
   "id": "d8bcde54",
   "metadata": {},
   "source": [
    "### 6. How do you tell the difference between the equal to and assignment operators?Describe a condition and when you would use one."
   ]
  },
  {
   "cell_type": "markdown",
   "id": "a511d7d1",
   "metadata": {},
   "source": [
    "### Ans\n",
    "\n",
    "1- Equal to '==' operator is used to check whether the given values are equal or not.  \n",
    "2- Assignment operator '=' is used to assign a value to a variable\n",
    "\n",
    "\n"
   ]
  },
  {
   "cell_type": "code",
   "execution_count": 12,
   "id": "3936ef9b",
   "metadata": {},
   "outputs": [
    {
     "name": "stdout",
     "output_type": "stream",
     "text": [
      "a is not equal to b\n"
     ]
    }
   ],
   "source": [
    "## Equal to example\n",
    "\n",
    "a = 4  # Here '=' assignment operator is used to assign the value to variable a\n",
    "b = 5\n",
    "if (a==b):  # Here '==' equal to operator is used to check if the values in variable a and b are equal or not\n",
    "    print('a is equal to b')\n",
    "else:\n",
    "    print('a is not equal to b')"
   ]
  },
  {
   "cell_type": "markdown",
   "id": "92a3a749",
   "metadata": {},
   "source": [
    "### 7. Identify the three blocks in this code:\n",
    "spam = 0  \n",
    "if spam == 10:  \n",
    "print('eggs')  \n",
    "if spam > 5:  \n",
    "print('bacon')  \n",
    "else:  \n",
    "print('ham')  \n",
    "print('spam')  \n",
    "print('spam')  \n"
   ]
  },
  {
   "cell_type": "code",
   "execution_count": 13,
   "id": "5b1ec653",
   "metadata": {},
   "outputs": [
    {
     "name": "stdout",
     "output_type": "stream",
     "text": [
      "ham\n",
      "spam\n",
      "spam\n"
     ]
    }
   ],
   "source": [
    "### Ans\n",
    "\n",
    "## The three blocks of code are   \n",
    " \n",
    "spam = 0  \n",
    "\n",
    "if spam == 10: #Block1  \n",
    "    print('eggs') #Block1  \n",
    "    \n",
    "if spam > 5: #Block2  \n",
    "    print('bacon') #Block2  \n",
    "\n",
    "else:  # Block3  \n",
    "    print('ham') # Block3  \n",
    "    print('spam') # Block3  \n",
    "    print('spam') # Block3  \n"
   ]
  },
  {
   "cell_type": "markdown",
   "id": "211c5047",
   "metadata": {},
   "source": [
    "### 8. Write code that prints Hello if 1 is stored in spam, prints Howdy if 2 is stored in spam, and prints Greetings! if anything else is stored in spam."
   ]
  },
  {
   "cell_type": "code",
   "execution_count": 17,
   "id": "b85a7c17",
   "metadata": {},
   "outputs": [
    {
     "name": "stdout",
     "output_type": "stream",
     "text": [
      "Hello\n"
     ]
    }
   ],
   "source": [
    "spam = 1\n",
    "\n",
    "if spam == 1:\n",
    "    print('Hello')\n",
    "elif spam == 2:\n",
    "    print('Howdy')\n",
    "else:\n",
    "    print('Greetings!')"
   ]
  },
  {
   "cell_type": "markdown",
   "id": "a005c0dc",
   "metadata": {},
   "source": [
    "### 9.If your programme is stuck in an endless loop, what keys you’ll press?"
   ]
  },
  {
   "cell_type": "markdown",
   "id": "8a305256",
   "metadata": {},
   "source": [
    "### Ans\n",
    "\n",
    "'CTRL+C' key is pressed simultaneously to get out of an endless loop"
   ]
  },
  {
   "cell_type": "markdown",
   "id": "b37ca94b",
   "metadata": {},
   "source": [
    "### 10. How can you tell the difference between break and continue?"
   ]
  },
  {
   "cell_type": "code",
   "execution_count": 20,
   "id": "9c29a76a",
   "metadata": {},
   "outputs": [
    {
     "name": "stdout",
     "output_type": "stream",
     "text": [
      "0\n",
      "1\n",
      "2\n",
      "3\n",
      "5\n",
      "6\n",
      "7\n",
      "Program control is out of the loop\n"
     ]
    }
   ],
   "source": [
    "### Example \n",
    "\n",
    "i = 1\n",
    "\n",
    "for i in range (10):\n",
    "    if (i==4):\n",
    "        continue\n",
    "    elif (i==8):\n",
    "        break\n",
    "    print(i)\n",
    "    \n",
    "print(\"Program control is out of the loop\")\n",
    "\n"
   ]
  },
  {
   "cell_type": "markdown",
   "id": "1fe43b6b",
   "metadata": {},
   "source": [
    "### Continue \n",
    "Continue is used to skip the current iteration of the loop. As we can see in above example when i=4 then nothing is printed and\n",
    "program skips to the next iteration.\n",
    "\n",
    "### Break\n",
    "Break is used to get out of the loop when the program control reaches the break statement then it comes out of the loop and the \n",
    "next statement after the loop is executed."
   ]
  },
  {
   "cell_type": "markdown",
   "id": "5f6b928c",
   "metadata": {},
   "source": [
    "### 11. In a for loop, what is the difference between range(10), range(0, 10), and range(0, 10, 1)?"
   ]
  },
  {
   "cell_type": "markdown",
   "id": "e54ebb8a",
   "metadata": {},
   "source": [
    "### Ans\n",
    "In range function in Python we can provide three parameters (start,stop,step).    \n",
    "The default values for start is 0 and step is 1  \n",
    "\n",
    "In case of range(10) -> Default values of start =0 and step = 1 and end is given as 10   \n",
    "In case of range(0,10) - > Default value of step = 1 and given values for start=0 and end=10  \n",
    "In case of range(0,10,1) -> Given values of start = 0 , end = 10 and step = 1  \n",
    "\n",
    "Hence we can see that the three parameters are equal in all the three cases.  \n",
    "So values generated using these three range will be same. Example as below"
   ]
  },
  {
   "cell_type": "code",
   "execution_count": 27,
   "id": "636a820f",
   "metadata": {},
   "outputs": [
    {
     "name": "stdout",
     "output_type": "stream",
     "text": [
      "0 1 2 3 4 5 6 7 8 9 \n",
      "\n",
      "0 1 2 3 4 5 6 7 8 9 \n",
      "\n",
      "0 1 2 3 4 5 6 7 8 9 "
     ]
    }
   ],
   "source": [
    "for i in range(10):\n",
    "    print(i,end=\" \")\n",
    "print('\\n')\n",
    "for i in range(0,10):\n",
    "    print(i,end=\" \")\n",
    "print('\\n')\n",
    "for i in range(0,10,1):\n",
    "    print(i,end=\" \")"
   ]
  },
  {
   "cell_type": "markdown",
   "id": "81c5beb8",
   "metadata": {},
   "source": [
    "### 12. Write a short program that prints the numbers 1 to 10 using a for loop. Then write an equivalent program that prints the numbers 1 to 10 using a while loop."
   ]
  },
  {
   "cell_type": "code",
   "execution_count": 28,
   "id": "13d2c8e5",
   "metadata": {},
   "outputs": [
    {
     "name": "stdout",
     "output_type": "stream",
     "text": [
      "1\n",
      "2\n",
      "3\n",
      "4\n",
      "5\n",
      "6\n",
      "7\n",
      "8\n",
      "9\n",
      "10\n"
     ]
    }
   ],
   "source": [
    "for i in range(1,11):\n",
    "    print(i)"
   ]
  },
  {
   "cell_type": "code",
   "execution_count": 30,
   "id": "8be76002",
   "metadata": {},
   "outputs": [
    {
     "name": "stdout",
     "output_type": "stream",
     "text": [
      "1\n",
      "2\n",
      "3\n",
      "4\n",
      "5\n",
      "6\n",
      "7\n",
      "8\n",
      "9\n",
      "10\n"
     ]
    }
   ],
   "source": [
    "i=1\n",
    "while(i<=10):\n",
    "    print(i)\n",
    "    i+=1\n",
    "    "
   ]
  },
  {
   "cell_type": "markdown",
   "id": "0902f3bb",
   "metadata": {},
   "source": [
    "### 13. If you had a function named bacon() inside a module named spam, how would you call it after importing spam?"
   ]
  },
  {
   "cell_type": "markdown",
   "id": "e69f2bf9",
   "metadata": {},
   "source": [
    "### Ans\n",
    "import spam  \n",
    "spam.bacom()"
   ]
  },
  {
   "cell_type": "code",
   "execution_count": null,
   "id": "add695aa",
   "metadata": {},
   "outputs": [],
   "source": []
  }
 ],
 "metadata": {
  "kernelspec": {
   "display_name": "Python 3 (ipykernel)",
   "language": "python",
   "name": "python3"
  },
  "language_info": {
   "codemirror_mode": {
    "name": "ipython",
    "version": 3
   },
   "file_extension": ".py",
   "mimetype": "text/x-python",
   "name": "python",
   "nbconvert_exporter": "python",
   "pygments_lexer": "ipython3",
   "version": "3.9.13"
  }
 },
 "nbformat": 4,
 "nbformat_minor": 5
}
