{
 "cells": [
  {
   "cell_type": "markdown",
   "id": "91986ae6",
   "metadata": {},
   "source": [
    "### 1. Why are functions advantageous to have in your programs?"
   ]
  },
  {
   "cell_type": "markdown",
   "id": "35a8e4b3",
   "metadata": {},
   "source": [
    "### Ans-1\n",
    "\n",
    "Functions are advantageous in our program because of the following reasons\n",
    "\n",
    "1-Readability: Functions makes the code more readable. By the name of functions only we can have an idea about the purpose of this function and the code block inside it.  \n",
    "2- Modularity: Each complex task inside our program can be divided into smaller simpler tasks and each function is dedicated for each of the smaller tasks. This makes our code easy to manage and update.  \n",
    "3- Abstraction: Function allows users to use its functionality without knowing its inner working.  \n",
    "4- Code reusability: We can create a function to perform a task and whenever that same task needs to be done again we can use the same function each time throughout the program.  \n",
    "5- Debugging: Debugging becomes easier.    \n",
    "\n",
    "\n",
    "\n"
   ]
  },
  {
   "cell_type": "markdown",
   "id": "79b90e3f",
   "metadata": {},
   "source": [
    "### 2. When does the code in a function run: when it&#39;s specified or when it&#39;s called?"
   ]
  },
  {
   "cell_type": "markdown",
   "id": "d6802505",
   "metadata": {},
   "source": [
    "### Ans-2\n",
    "\n",
    "Code in a function run when its called.  \n",
    "When we define the function we create its functionality and mention the tasks to be performed inside that function.\n",
    "But the function actually performs those tasks only when it is called."
   ]
  },
  {
   "cell_type": "code",
   "execution_count": 1,
   "id": "111d30b7",
   "metadata": {},
   "outputs": [],
   "source": [
    "# Here we have defined the function but it doesnot print any result\n",
    "def add_numbers(x,y):\n",
    "    print(x+y)"
   ]
  },
  {
   "cell_type": "code",
   "execution_count": 3,
   "id": "f2250271",
   "metadata": {},
   "outputs": [
    {
     "name": "stdout",
     "output_type": "stream",
     "text": [
      "9\n"
     ]
    }
   ],
   "source": [
    "# Result is printed when we are calling the function\n",
    "add_numbers(4,5)"
   ]
  },
  {
   "cell_type": "markdown",
   "id": "0f51cd5a",
   "metadata": {},
   "source": [
    "### 3. What statement creates a function?"
   ]
  },
  {
   "cell_type": "markdown",
   "id": "c34f2214",
   "metadata": {},
   "source": [
    "### Ans-3\n",
    "\n",
    "'def' keyword is used in Python to create a function  \n",
    "\n"
   ]
  },
  {
   "cell_type": "code",
   "execution_count": 4,
   "id": "7939c407",
   "metadata": {},
   "outputs": [],
   "source": [
    "def function_name(parameters):\n",
    "    pass"
   ]
  },
  {
   "cell_type": "markdown",
   "id": "af5dc529",
   "metadata": {},
   "source": [
    "### 4. What is the difference between a function and a function call?"
   ]
  },
  {
   "cell_type": "markdown",
   "id": "a99026d8",
   "metadata": {},
   "source": [
    "### Ans-4\n",
    "\n",
    "Function: It is a block of code that performs a specific task. In Python it is declared using def keyword.  \n",
    "Function Call: When we call a function by passing the required parameters then the code inside the function is executed."
   ]
  },
  {
   "cell_type": "code",
   "execution_count": 8,
   "id": "5f93e849",
   "metadata": {},
   "outputs": [],
   "source": [
    "# This is the function\n",
    "def mult_num(x,y):\n",
    "    print (x*y)"
   ]
  },
  {
   "cell_type": "code",
   "execution_count": 10,
   "id": "59f3e357",
   "metadata": {},
   "outputs": [
    {
     "name": "stdout",
     "output_type": "stream",
     "text": [
      "20\n"
     ]
    }
   ],
   "source": [
    "#This is the function call\n",
    "mult_num(4,5)"
   ]
  },
  {
   "cell_type": "markdown",
   "id": "8654bf48",
   "metadata": {},
   "source": [
    "### 5. How many global scopes are there in a Python program? How many local scopes?"
   ]
  },
  {
   "cell_type": "markdown",
   "id": "a729e1ee",
   "metadata": {},
   "source": [
    "### Ans-5\n",
    "\n",
    "In Python program there is one global scope that is active throughout the program while a local variable is created each time when function is called."
   ]
  },
  {
   "cell_type": "markdown",
   "id": "3225b84f",
   "metadata": {},
   "source": [
    "### 6. What happens to variables in a local scope when the function call returns?"
   ]
  },
  {
   "cell_type": "markdown",
   "id": "a9f3e36f",
   "metadata": {},
   "source": [
    "### Ans-6 \n",
    "\n",
    "After the function call is returned variables that are declared inside that function having local scope are destroyed and those variables cannot be accessed."
   ]
  },
  {
   "cell_type": "markdown",
   "id": "4a16a7f8",
   "metadata": {},
   "source": [
    "### 7. What is the concept of a return value? Is it possible to have a return value in an expression?"
   ]
  },
  {
   "cell_type": "markdown",
   "id": "7b18948c",
   "metadata": {},
   "source": [
    "### Ans-7\n",
    "\n",
    "When a function is called then it performs the task and the result is returned to the caller using return keyword.  \n",
    "Yes we can use return value inside an expression."
   ]
  },
  {
   "cell_type": "markdown",
   "id": "b4144925",
   "metadata": {},
   "source": [
    "### 8. If a function does not have a return statement, what is the return value of a call to that function?"
   ]
  },
  {
   "cell_type": "markdown",
   "id": "68852a28",
   "metadata": {},
   "source": [
    "### Ans-8\n",
    "\n",
    "If a function does not have return value then it return a None value when that function is called."
   ]
  },
  {
   "cell_type": "markdown",
   "id": "ff2c0d9f",
   "metadata": {},
   "source": [
    "### 9. How do you make a function variable refer to the global variable?"
   ]
  },
  {
   "cell_type": "markdown",
   "id": "1ea1abdc",
   "metadata": {},
   "source": [
    "### Ans-9\n",
    "To make a function variable refer to the global variable use global keyword before the variable name.\n"
   ]
  },
  {
   "cell_type": "code",
   "execution_count": 13,
   "id": "fa31060a",
   "metadata": {},
   "outputs": [
    {
     "name": "stdout",
     "output_type": "stream",
     "text": [
      "This is global variable x:10\n",
      "This is local variable x:2\n"
     ]
    }
   ],
   "source": [
    "x = 10\n",
    "def print_num():\n",
    "    global x\n",
    "    print(f\"This is global variable x:{x}\")\n",
    "    \n",
    "def print_num_2():\n",
    "    x = 2\n",
    "    print(f\"This is local variable x:{x}\")\n",
    "    \n",
    "print_num()\n",
    "print_num_2()\n",
    "\n",
    "    "
   ]
  },
  {
   "cell_type": "markdown",
   "id": "c914767f",
   "metadata": {},
   "source": [
    "### 10. What is the data type of None?"
   ]
  },
  {
   "cell_type": "markdown",
   "id": "fc3f480c",
   "metadata": {},
   "source": [
    "### Ans-10\n",
    "\n",
    "The data type of None is NoneType.\n"
   ]
  },
  {
   "cell_type": "code",
   "execution_count": 14,
   "id": "efb2399e",
   "metadata": {},
   "outputs": [
    {
     "name": "stdout",
     "output_type": "stream",
     "text": [
      "<class 'NoneType'>\n"
     ]
    }
   ],
   "source": [
    "print(type(None))"
   ]
  },
  {
   "cell_type": "markdown",
   "id": "7addbe33",
   "metadata": {},
   "source": [
    "### 11. What does the sentence import areallyourpetsnamederic do?"
   ]
  },
  {
   "cell_type": "markdown",
   "id": "2041c134",
   "metadata": {},
   "source": [
    "### Ans-11\n",
    "\n",
    "This import statement imports a module named areallyourpetsnamederic if it exists and if this module does not exists then it will generate an error."
   ]
  },
  {
   "cell_type": "markdown",
   "id": "a9f737bf",
   "metadata": {},
   "source": [
    "### 12. If you had a bacon() feature in a spam module, what would you call it after importing spam?"
   ]
  },
  {
   "cell_type": "markdown",
   "id": "520d3081",
   "metadata": {},
   "source": [
    "### Ans-12\n",
    "\n",
    "We can call bacon() feature after importing spam module as spam.bacon()"
   ]
  },
  {
   "cell_type": "markdown",
   "id": "d3d8bbc1",
   "metadata": {},
   "source": [
    "### 13. What can you do to save a programme from crashing if it encounters an error?"
   ]
  },
  {
   "cell_type": "markdown",
   "id": "3d644281",
   "metadata": {},
   "source": [
    "### Ans-13\n",
    "\n",
    "We can use try and except block to prevent the program from crashing when error is encountered.\n",
    "The program block in which error may occurr is kept inside the try block and what actions that need to be taken in case error is encountered is kept inside except block."
   ]
  },
  {
   "cell_type": "markdown",
   "id": "06f277a8",
   "metadata": {},
   "source": [
    "### 14. What is the purpose of the try clause? What is the purpose of the except clause?"
   ]
  },
  {
   "cell_type": "markdown",
   "id": "1e29108f",
   "metadata": {},
   "source": [
    "### Ans-14\n",
    "\n",
    "The try clause is used when there is possibility of error in the block of code then that block of code is kept inside the try clause and if an error happens then the control goes to the except block and this block contains the code to be executed when error is encountered.\n"
   ]
  }
 ],
 "metadata": {
  "kernelspec": {
   "display_name": "Python 3 (ipykernel)",
   "language": "python",
   "name": "python3"
  },
  "language_info": {
   "codemirror_mode": {
    "name": "ipython",
    "version": 3
   },
   "file_extension": ".py",
   "mimetype": "text/x-python",
   "name": "python",
   "nbconvert_exporter": "python",
   "pygments_lexer": "ipython3",
   "version": "3.9.13"
  }
 },
 "nbformat": 4,
 "nbformat_minor": 5
}
