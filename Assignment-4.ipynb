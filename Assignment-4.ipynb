{
 "cells": [
  {
   "cell_type": "markdown",
   "id": "32cd36b4",
   "metadata": {},
   "source": [
    "### 1. What exactly is []?"
   ]
  },
  {
   "cell_type": "markdown",
   "id": "eea2cc77",
   "metadata": {},
   "source": [
    "### Ans-1\n",
    "\n",
    "'[]' This represents an empty list which doesnot contain any items.  \n"
   ]
  },
  {
   "cell_type": "markdown",
   "id": "09d9bc90",
   "metadata": {},
   "source": [
    "### 2. In a list of values stored in a variable called spam, how would you assign the value &#39;hello&#39; as the third value? (Assume [2, 4, 6, 8, 10] are in spam.)"
   ]
  },
  {
   "cell_type": "markdown",
   "id": "45517e7e",
   "metadata": {},
   "source": [
    "### Ans-2\n",
    "\n",
    "spam[2] = 'hello'"
   ]
  },
  {
   "cell_type": "code",
   "execution_count": 3,
   "id": "3ace215c",
   "metadata": {},
   "outputs": [
    {
     "name": "stdout",
     "output_type": "stream",
     "text": [
      "[2, 4, 'hello', 8, 10]\n"
     ]
    }
   ],
   "source": [
    "spam = [2,4,6,8,10]\n",
    "spam[2]='hello'\n",
    "print(spam)"
   ]
  },
  {
   "cell_type": "markdown",
   "id": "4e95b91a",
   "metadata": {},
   "source": [
    "### Let's pretend the spam includes the list ['a','b','c',d'] for the next three queries."
   ]
  },
  {
   "cell_type": "code",
   "execution_count": 5,
   "id": "6f4c4c25",
   "metadata": {},
   "outputs": [],
   "source": [
    "spam = ['a','b','c','d']"
   ]
  },
  {
   "cell_type": "markdown",
   "id": "1bcb11d4",
   "metadata": {},
   "source": [
    "### 3. What is the value of spam[int(int(&#39;3&#39; * 2) / 11)]?"
   ]
  },
  {
   "cell_type": "markdown",
   "id": "ca9ef370",
   "metadata": {},
   "source": [
    "### Ans-3\n",
    "\n",
    "('3'* 2) = '33'  \n",
    "int('3' * 2) = 33  \n",
    "int('3' * 2) / 11 = 3  \n",
    "int(int('3' * 2) / 11) = 3  \n",
    "spam[int(int('3' * 2) / 11)] = 'd'  \n"
   ]
  },
  {
   "cell_type": "code",
   "execution_count": 7,
   "id": "c9688df8",
   "metadata": {},
   "outputs": [
    {
     "data": {
      "text/plain": [
       "'d'"
      ]
     },
     "execution_count": 7,
     "metadata": {},
     "output_type": "execute_result"
    }
   ],
   "source": [
    "spam[int(int('3' * 2) / 11)]"
   ]
  },
  {
   "cell_type": "markdown",
   "id": "0edbd57e",
   "metadata": {},
   "source": [
    "### 4. What is the value of spam[-1]?"
   ]
  },
  {
   "cell_type": "markdown",
   "id": "f432fe0d",
   "metadata": {},
   "source": [
    "### Ans-4\n",
    "\n",
    "This will return the last value in the list.  \n",
    "spam[-1] = 'd'"
   ]
  },
  {
   "cell_type": "code",
   "execution_count": 8,
   "id": "34814dcf",
   "metadata": {},
   "outputs": [
    {
     "data": {
      "text/plain": [
       "'d'"
      ]
     },
     "execution_count": 8,
     "metadata": {},
     "output_type": "execute_result"
    }
   ],
   "source": [
    "spam[-1]"
   ]
  },
  {
   "cell_type": "markdown",
   "id": "b11989bb",
   "metadata": {},
   "source": [
    "### 5. What is the value of spam[:2]?"
   ]
  },
  {
   "cell_type": "markdown",
   "id": "6d0c4600",
   "metadata": {},
   "source": [
    "### Ans-5\n",
    "\n",
    "This will return values from index 0 to 2 (excluding 2."
   ]
  },
  {
   "cell_type": "code",
   "execution_count": 11,
   "id": "d3f51afb",
   "metadata": {},
   "outputs": [
    {
     "data": {
      "text/plain": [
       "['a', 'b']"
      ]
     },
     "execution_count": 11,
     "metadata": {},
     "output_type": "execute_result"
    }
   ],
   "source": [
    "spam[:2]"
   ]
  },
  {
   "cell_type": "markdown",
   "id": "0ddbe6aa",
   "metadata": {},
   "source": [
    "### Let's pretend bacon has the list [3.14,'cat',11,'cat',True] for the next three question"
   ]
  },
  {
   "cell_type": "code",
   "execution_count": 19,
   "id": "e9de38a0",
   "metadata": {},
   "outputs": [],
   "source": [
    "bacon = [3.14,'cat',11,'cat',True]"
   ]
  },
  {
   "cell_type": "markdown",
   "id": "aeb0bdec",
   "metadata": {},
   "source": [
    "### 6. What is the value of bacon.index(&#39;cat&#39;)?"
   ]
  },
  {
   "cell_type": "markdown",
   "id": "b531644b",
   "metadata": {},
   "source": [
    "### Ans-6\n",
    "\n",
    "This will return the index of the first occurrence of the 'cat' string in the list bacon"
   ]
  },
  {
   "cell_type": "code",
   "execution_count": 20,
   "id": "b88fa364",
   "metadata": {},
   "outputs": [
    {
     "data": {
      "text/plain": [
       "1"
      ]
     },
     "execution_count": 20,
     "metadata": {},
     "output_type": "execute_result"
    }
   ],
   "source": [
    "bacon.index('cat')"
   ]
  },
  {
   "cell_type": "markdown",
   "id": "6d4ee5b8",
   "metadata": {},
   "source": [
    "### 7. How does bacon.append(99) change the look of the list value in bacon?"
   ]
  },
  {
   "cell_type": "markdown",
   "id": "7b40fbcd",
   "metadata": {},
   "source": [
    "### Ans-7\n",
    "\n",
    "This will add the value 99 at the end of the list bacon"
   ]
  },
  {
   "cell_type": "code",
   "execution_count": 21,
   "id": "1063d8a6",
   "metadata": {},
   "outputs": [
    {
     "name": "stdout",
     "output_type": "stream",
     "text": [
      "[3.14, 'cat', 11, 'cat', True]\n",
      "[3.14, 'cat', 11, 'cat', True, 99]\n"
     ]
    }
   ],
   "source": [
    "print(bacon)\n",
    "bacon.append(99)\n",
    "print(bacon)"
   ]
  },
  {
   "cell_type": "markdown",
   "id": "66a55873",
   "metadata": {},
   "source": [
    "### 8. How does bacon.remove('cat') change the look of the list in bacon?"
   ]
  },
  {
   "cell_type": "markdown",
   "id": "f65204ed",
   "metadata": {},
   "source": [
    "### Ans-8\n",
    "\n",
    "The remove method will remove the first occurrence of string 'cat' in the list bacon"
   ]
  },
  {
   "cell_type": "code",
   "execution_count": 23,
   "id": "0e9694dc",
   "metadata": {},
   "outputs": [
    {
     "name": "stdout",
     "output_type": "stream",
     "text": [
      "[3.14, 11, 'cat', True, 99]\n",
      "[3.14, 11, True, 99]\n"
     ]
    }
   ],
   "source": [
    "print(bacon)\n",
    "bacon.remove('cat')\n",
    "print(bacon)"
   ]
  },
  {
   "cell_type": "markdown",
   "id": "7e8d0f82",
   "metadata": {},
   "source": [
    "### 9. What are the list concatenation and list replication operators?"
   ]
  },
  {
   "cell_type": "markdown",
   "id": "432e5556",
   "metadata": {},
   "source": [
    "### Ans-9\n",
    "The list concatenation operator used is '+' while the list replication operator is '*'.\n",
    "\n",
    "List concatenation is used to combine the elements of two list while list replication is used to repeat the elements of the\n",
    "list given number of times."
   ]
  },
  {
   "cell_type": "code",
   "execution_count": 27,
   "id": "bd69c743",
   "metadata": {},
   "outputs": [
    {
     "name": "stdout",
     "output_type": "stream",
     "text": [
      "[1, 2, 3, 4, 'a', 'b', 'c', 'd']\n",
      "[1, 2, 3, 4, 1, 2, 3, 4]\n"
     ]
    }
   ],
   "source": [
    "lst1 = [1,2,3,4]\n",
    "lst2 = ['a','b','c','d']\n",
    "print(lst1+lst2) ##List concatenation\n",
    "print(lst1*2) ## List replication"
   ]
  },
  {
   "cell_type": "markdown",
   "id": "8b3d6b16",
   "metadata": {},
   "source": [
    "### 10. What is difference between the list methods append() and insert()?"
   ]
  },
  {
   "cell_type": "markdown",
   "id": "ac6c5060",
   "metadata": {},
   "source": [
    "### Ans-10\n",
    "\n",
    "List append method adds the element at the end of the list while insert() method can be used to insert the element at the given index.  \n",
    "\n",
    "Syntax  \n",
    "\n",
    "append()  \n",
    "list_name.append(value)  \n",
    "\n",
    "insert()  \n",
    "list_name.insert(index,value)  "
   ]
  },
  {
   "cell_type": "code",
   "execution_count": 29,
   "id": "8197e9bd",
   "metadata": {},
   "outputs": [
    {
     "name": "stdout",
     "output_type": "stream",
     "text": [
      "['a', 'b', 'c']\n",
      "['a', 'b', 'c', 'd']\n",
      "['a', 'b', 'z', 'c', 'd']\n"
     ]
    }
   ],
   "source": [
    "lst = ['a','b','c']\n",
    "print(lst)\n",
    "lst.append('d')\n",
    "print(lst)\n",
    "lst.insert(2,'z')\n",
    "print(lst)"
   ]
  },
  {
   "cell_type": "markdown",
   "id": "092b1556",
   "metadata": {},
   "source": [
    "### 11. What are the two methods for removing items from a list?"
   ]
  },
  {
   "cell_type": "markdown",
   "id": "63d97b00",
   "metadata": {},
   "source": [
    "### Ans-11\n",
    "\n",
    "The two methods for removing items from a list are:  \n",
    "\n",
    "1- remove()  \n",
    "This method is used to remove the first occurrence of the given element fron the list.  \n",
    "\n",
    "2- del()  \n",
    "This method is used to delete the element at the given index from the list.  \n"
   ]
  },
  {
   "cell_type": "code",
   "execution_count": 35,
   "id": "a313cef4",
   "metadata": {},
   "outputs": [
    {
     "name": "stdout",
     "output_type": "stream",
     "text": [
      "['apple', 'mango', 'banana', 'grapes', 'mango']\n",
      "['apple', 'banana', 'grapes', 'mango']\n",
      "['apple', 'banana', 'mango']\n"
     ]
    }
   ],
   "source": [
    "arr = ['apple','mango','banana','grapes','mango']\n",
    "print(arr)\n",
    "arr.remove('mango') ## Removes the first occurrence of the given string\n",
    "print(arr)\n",
    "del arr[2] ## Removes the element at the given index\n",
    "print(arr)"
   ]
  },
  {
   "cell_type": "markdown",
   "id": "9fb314ad",
   "metadata": {},
   "source": [
    "### 12. Describe how list values and string values are identical."
   ]
  },
  {
   "cell_type": "markdown",
   "id": "9241b912",
   "metadata": {},
   "source": [
    "### Ans-12\n",
    "\n",
    "List values and string values are identical because  \n",
    "In both we can use slicing  \n",
    "In both we can use indexing  \n",
    "In both we can use len()  \n",
    "Both can be iterated using loops  \n"
   ]
  },
  {
   "cell_type": "markdown",
   "id": "d855718a",
   "metadata": {},
   "source": [
    "### 13. What&#39;s the difference between tuples and lists?"
   ]
  },
  {
   "cell_type": "markdown",
   "id": "a47c91e2",
   "metadata": {},
   "source": [
    "### Ans-13\n",
    "\n",
    "Difference between tuples and lists  \n",
    "\n",
    "1- Lists are mutable while tuples are immutable.  \n",
    "2- Lists are created using square brackets [] while tuples are created using paranthesis ()  \n",
    "3- Tuples are slightly faster than lists  \n"
   ]
  },
  {
   "cell_type": "code",
   "execution_count": 46,
   "id": "bdf14c15",
   "metadata": {},
   "outputs": [
    {
     "name": "stdout",
     "output_type": "stream",
     "text": [
      "<class 'list'>\n",
      "<class 'tuple'>\n"
     ]
    }
   ],
   "source": [
    "a1 = [1,2,3]\n",
    "a2 = ('a','b','c')\n",
    "print(type(a1))\n",
    "print(type(a2))"
   ]
  },
  {
   "cell_type": "markdown",
   "id": "cbed2412",
   "metadata": {},
   "source": [
    "### 14. How do you type a tuple value that only contains the integer 42?"
   ]
  },
  {
   "cell_type": "markdown",
   "id": "8250ada4",
   "metadata": {},
   "source": [
    "### Ans-14\n",
    "\n",
    "We declare a tuple with only one value by putting comma after the given value to distinguish is from normal value"
   ]
  },
  {
   "cell_type": "code",
   "execution_count": 37,
   "id": "f484b874",
   "metadata": {},
   "outputs": [
    {
     "name": "stdout",
     "output_type": "stream",
     "text": [
      "<class 'int'>\n",
      "<class 'tuple'>\n"
     ]
    }
   ],
   "source": [
    "tp1 = (42) \n",
    "tp2 = (42,) ## correct way to declare a tuple\n",
    "print(type(tp1))\n",
    "print(type(tp2))"
   ]
  },
  {
   "cell_type": "markdown",
   "id": "4ffc6e94",
   "metadata": {},
   "source": [
    "### 15. How do you get a list value&#39;s tuple form? How do you get a tuple value&#39;s list form?"
   ]
  },
  {
   "cell_type": "markdown",
   "id": "15e4f062",
   "metadata": {},
   "source": [
    "### Ans-15\n",
    "\n",
    "list() -> is used to convert tuple to list  \n",
    "tuple() -> is used to convert list to tuple  "
   ]
  },
  {
   "cell_type": "code",
   "execution_count": 40,
   "id": "878ab4c2",
   "metadata": {},
   "outputs": [
    {
     "name": "stdout",
     "output_type": "stream",
     "text": [
      "(1, 2, 3, 4)\n",
      "<class 'tuple'>\n"
     ]
    }
   ],
   "source": [
    "lst = [1,2,3,4]\n",
    "app = tuple(lst)\n",
    "print(app)\n",
    "print(type(app))\n",
    "\n"
   ]
  },
  {
   "cell_type": "code",
   "execution_count": 41,
   "id": "ec6ae80e",
   "metadata": {},
   "outputs": [
    {
     "name": "stdout",
     "output_type": "stream",
     "text": [
      "['a', 'b', 'c']\n",
      "<class 'list'>\n"
     ]
    }
   ],
   "source": [
    "app = ('a','b','c')\n",
    "lst = list(app)\n",
    "print(lst)\n",
    "print(type(lst))"
   ]
  },
  {
   "cell_type": "markdown",
   "id": "fcd2dd31",
   "metadata": {},
   "source": [
    "### 16. Variables that &quot;contain&quot; list values are not necessarily lists themselves. Instead, what do they contain?"
   ]
  },
  {
   "cell_type": "markdown",
   "id": "3d51a47d",
   "metadata": {},
   "source": [
    "### Ans-16\n",
    "\n",
    "There store reference of the list. The variable store the address where the list is located."
   ]
  },
  {
   "cell_type": "markdown",
   "id": "7dafed3c",
   "metadata": {},
   "source": [
    "### 17. How do you distinguish between copy.copy() and copy.deepcopy()?"
   ]
  },
  {
   "cell_type": "markdown",
   "id": "f4a3c345",
   "metadata": {},
   "source": [
    "### Ans-17\n",
    "copy.copy() and copy.deepcopy() both are present in copy module of Python  \n",
    "\n",
    "1-copy.copy() - This creates a shallow copy of the object.  \n",
    "2- copy.deepcopy()- This creates a deep copy of an object. This new copy is completely independent of the original copy.  "
   ]
  },
  {
   "cell_type": "code",
   "execution_count": 45,
   "id": "0cd72d2e",
   "metadata": {},
   "outputs": [
    {
     "name": "stdout",
     "output_type": "stream",
     "text": [
      "[1, [99, 3], 4]\n",
      "[1, [99, 3], 4]\n"
     ]
    }
   ],
   "source": [
    "## Shallow copy\n",
    "import copy\n",
    "\n",
    "l1 = [1,[2,3],4]\n",
    "l2 = copy.copy(l1)\n",
    "\n",
    "l1[1][0] = 99\n",
    "print(l1)\n",
    "print(l2)"
   ]
  },
  {
   "cell_type": "code",
   "execution_count": 43,
   "id": "b2379373",
   "metadata": {},
   "outputs": [
    {
     "name": "stdout",
     "output_type": "stream",
     "text": [
      "[1, [99, 3], 4]\n",
      "[1, [2, 3], 4]\n"
     ]
    }
   ],
   "source": [
    "## Deep copy\n",
    "import copy\n",
    "l1 = [1,[2,3],4]\n",
    "l2 = copy.deepcopy(l1)\n",
    "\n",
    "l1[1][0] = 99\n",
    "print(l1)\n",
    "print(l2)"
   ]
  }
 ],
 "metadata": {
  "kernelspec": {
   "display_name": "Python 3 (ipykernel)",
   "language": "python",
   "name": "python3"
  },
  "language_info": {
   "codemirror_mode": {
    "name": "ipython",
    "version": 3
   },
   "file_extension": ".py",
   "mimetype": "text/x-python",
   "name": "python",
   "nbconvert_exporter": "python",
   "pygments_lexer": "ipython3",
   "version": "3.9.13"
  }
 },
 "nbformat": 4,
 "nbformat_minor": 5
}
