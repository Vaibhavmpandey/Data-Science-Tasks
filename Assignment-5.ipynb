{
 "cells": [
  {
   "cell_type": "markdown",
   "id": "b4448927",
   "metadata": {},
   "source": [
    "### 1. What does an empty dictionary&#39;s code look like?"
   ]
  },
  {
   "cell_type": "markdown",
   "id": "8b1daa90",
   "metadata": {},
   "source": [
    "### Ans-1\n",
    "Empty dictionary in Python is created using empty curly brackets"
   ]
  },
  {
   "cell_type": "code",
   "execution_count": 6,
   "id": "351cc3f2",
   "metadata": {},
   "outputs": [
    {
     "name": "stdout",
     "output_type": "stream",
     "text": [
      "{}\n",
      "0\n"
     ]
    }
   ],
   "source": [
    "dic = {} ## Empty dictionary \n",
    "print(dic)\n",
    "print(len(dic))"
   ]
  },
  {
   "cell_type": "markdown",
   "id": "0ce93515",
   "metadata": {},
   "source": [
    "### 2. What is the value of a dictionary value with the key &#39;foo&#39; and the value 42?"
   ]
  },
  {
   "cell_type": "markdown",
   "id": "b2dbc601",
   "metadata": {},
   "source": [
    "### Ans-2\n",
    "{'foo': 42}"
   ]
  },
  {
   "cell_type": "code",
   "execution_count": 9,
   "id": "a6658e60",
   "metadata": {},
   "outputs": [
    {
     "data": {
      "text/plain": [
       "{'foo': 42}"
      ]
     },
     "execution_count": 9,
     "metadata": {},
     "output_type": "execute_result"
    }
   ],
   "source": [
    "dic = {'foo':42}\n",
    "dic"
   ]
  },
  {
   "cell_type": "markdown",
   "id": "93c7a27b",
   "metadata": {},
   "source": [
    "### 3. What is the most significant distinction between a dictionary and a list?"
   ]
  },
  {
   "cell_type": "markdown",
   "id": "afe37fae",
   "metadata": {},
   "source": [
    "### Ans-3\n",
    "\n",
    " 1- List are used to store elements in an ordered format while dictionary is used to store elements in the form of key value pair in a unordered format.  \n",
    " 2- Lists are created using [] while dictionary is created using curly brackets {}.  \n",
    " 3- List elements can be accessed using numeric indexes while dictionary elements are accessed using keys.  \n",
    " 4- List maintains the order in which the elements are present while dictionary does not maintain order.  "
   ]
  },
  {
   "cell_type": "code",
   "execution_count": 11,
   "id": "ec10b3ce",
   "metadata": {},
   "outputs": [
    {
     "name": "stdout",
     "output_type": "stream",
     "text": [
      "['mango', 'banana', 'grapes']\n",
      "banana\n",
      "{'name': 'xyz', 'age': 20, 'gender': 'male'}\n",
      "xyz\n"
     ]
    }
   ],
   "source": [
    "#Creating a list \n",
    "lst = ['mango','banana','grapes']\n",
    "print(lst)\n",
    "# Accessing elements using index\n",
    "print(lst[1])\n",
    "\n",
    "#Creating a dictionary\n",
    "dic = {'name':'xyz','age':20,'gender':'male'}\n",
    "print(dic)\n",
    "#Accessing elements using key\n",
    "print(dic['name'])"
   ]
  },
  {
   "cell_type": "markdown",
   "id": "35b05895",
   "metadata": {},
   "source": [
    "### 4. What happens if you try to access spam[&#39;foo&#39;] if spam is {&#39;bar&#39;: 100}?"
   ]
  },
  {
   "cell_type": "markdown",
   "id": "1d376b39",
   "metadata": {},
   "source": [
    "### Ans-4\n",
    "\n",
    "We will get key error because no key 'foo' is present in the dictionary"
   ]
  },
  {
   "cell_type": "code",
   "execution_count": 14,
   "id": "02c247ce",
   "metadata": {},
   "outputs": [
    {
     "name": "stdout",
     "output_type": "stream",
     "text": [
      "{'bar': 100}\n"
     ]
    },
    {
     "ename": "KeyError",
     "evalue": "'foo'",
     "output_type": "error",
     "traceback": [
      "\u001b[1;31m---------------------------------------------------------------------------\u001b[0m",
      "\u001b[1;31mKeyError\u001b[0m                                  Traceback (most recent call last)",
      "\u001b[1;32m~\\AppData\\Local\\Temp\\ipykernel_5088\\2845555242.py\u001b[0m in \u001b[0;36m<module>\u001b[1;34m\u001b[0m\n\u001b[0;32m      1\u001b[0m \u001b[0mspam\u001b[0m \u001b[1;33m=\u001b[0m \u001b[1;33m{\u001b[0m\u001b[1;34m'bar'\u001b[0m\u001b[1;33m:\u001b[0m \u001b[1;36m100\u001b[0m\u001b[1;33m}\u001b[0m\u001b[1;33m\u001b[0m\u001b[1;33m\u001b[0m\u001b[0m\n\u001b[0;32m      2\u001b[0m \u001b[0mprint\u001b[0m\u001b[1;33m(\u001b[0m\u001b[0mspam\u001b[0m\u001b[1;33m)\u001b[0m\u001b[1;33m\u001b[0m\u001b[1;33m\u001b[0m\u001b[0m\n\u001b[1;32m----> 3\u001b[1;33m \u001b[0mspam\u001b[0m\u001b[1;33m[\u001b[0m\u001b[1;34m'foo'\u001b[0m\u001b[1;33m]\u001b[0m\u001b[1;33m\u001b[0m\u001b[1;33m\u001b[0m\u001b[0m\n\u001b[0m",
      "\u001b[1;31mKeyError\u001b[0m: 'foo'"
     ]
    }
   ],
   "source": [
    "spam = {'bar': 100}\n",
    "print(spam)\n",
    "spam['foo']"
   ]
  },
  {
   "cell_type": "markdown",
   "id": "6c5565b1",
   "metadata": {},
   "source": [
    "### 5. If a dictionary is stored in spam, what is the difference between the expressions &#39;cat&#39; in spam and &#39;cat&#39; in spam.keys()?"
   ]
  },
  {
   "cell_type": "markdown",
   "id": "9e408439",
   "metadata": {},
   "source": [
    "### Ans-5\n",
    "\n",
    "Both the expressions 'cat' in spam and 'cat' in spam.keys() searches the string 'cat' within the keys in dictionary spam.\n",
    "If it is found it will return True else False.  "
   ]
  },
  {
   "cell_type": "code",
   "execution_count": 17,
   "id": "90dd4bdd",
   "metadata": {},
   "outputs": [
    {
     "name": "stdout",
     "output_type": "stream",
     "text": [
      "{'cat': 'blue', 'dog': 'black'}\n",
      "True\n",
      "True\n"
     ]
    }
   ],
   "source": [
    "spam = {'cat':'blue','dog':'black'}\n",
    "print(spam)\n",
    "print('cat' in spam)\n",
    "print('cat' in spam.keys())"
   ]
  },
  {
   "cell_type": "markdown",
   "id": "b1562b1c",
   "metadata": {},
   "source": [
    "### 6. If a dictionary is stored in spam, what is the difference between the expressions &#39;cat&#39; in spam and &#39;cat&#39; in spam.values()?"
   ]
  },
  {
   "cell_type": "markdown",
   "id": "7af5fc19",
   "metadata": {},
   "source": [
    "### Ans-6\n",
    "\n",
    "In the expression 'cat' in spam the program will check whether the 'cat' is present in the keys in dictionary 'spam' while \n",
    "'cat' in spam.values() will check whether the 'cat' string is present in the values in the dictionary 'spam'.  "
   ]
  },
  {
   "cell_type": "code",
   "execution_count": 18,
   "id": "a3098d32",
   "metadata": {},
   "outputs": [
    {
     "name": "stdout",
     "output_type": "stream",
     "text": [
      "{'cat': 'blue', 'dog': 'black'}\n",
      "True\n",
      "False\n"
     ]
    }
   ],
   "source": [
    "spam = {'cat':'blue','dog':'black'}\n",
    "print(spam)\n",
    "print('cat' in spam)\n",
    "print('cat' in spam.values()) # As no value 'cat' is present in the values in dictionary spam so it will return False"
   ]
  },
  {
   "cell_type": "markdown",
   "id": "c1139e41",
   "metadata": {},
   "source": [
    "### 7.what is a shortcut for the following code ?\n",
    "### if 'color' not in spam: spam['color'] ='black'"
   ]
  },
  {
   "cell_type": "markdown",
   "id": "7615d415",
   "metadata": {},
   "source": [
    "### Ans-7\n",
    "\n",
    "spam.setdefault('color','black')\n",
    "\n",
    "This is used to set a value for a key in dictionary when no similar key is present"
   ]
  },
  {
   "cell_type": "code",
   "execution_count": 23,
   "id": "a7cc8e4b",
   "metadata": {},
   "outputs": [
    {
     "name": "stdout",
     "output_type": "stream",
     "text": [
      "{'height': 6, 'age': 50}\n",
      "{'height': 6, 'age': 50, 'color': 'black'}\n"
     ]
    }
   ],
   "source": [
    "spam = {'height':6,'age':50}\n",
    "print(spam)\n",
    "spam.setdefault('color','black')\n",
    "print(spam)"
   ]
  },
  {
   "cell_type": "markdown",
   "id": "d6792b92",
   "metadata": {},
   "source": [
    "### 8.How do you 'pretty print' dictionary values using which modules and function ?"
   ]
  },
  {
   "cell_type": "markdown",
   "id": "d2c2cece",
   "metadata": {},
   "source": [
    "### Ans-8\n",
    "\n",
    "We can pretty print using   \n",
    "1- pprint function of pprint module  \n",
    "2- dumps method of yaml module  \n",
    "3- dump method of json module  "
   ]
  },
  {
   "cell_type": "code",
   "execution_count": 39,
   "id": "efc7e2c9",
   "metadata": {},
   "outputs": [
    {
     "name": "stdout",
     "output_type": "stream",
     "text": [
      "Printing using print():\n",
      "{'name': 'xyz', 'age': 45, 'gender': 'male', 'address': {'state': 'UP', 'country': 'India'}}\n",
      "\n",
      "\n",
      "Printing using pprint() of pprint module:\n",
      "{'address': {'country': 'India', 'state': 'UP'},\n",
      " 'age': 45,\n",
      " 'gender': 'male',\n",
      " 'name': 'xyz'}\n",
      "\n",
      "\n",
      "Printing using dumps() of  json module:\n",
      "{\n",
      "    \"name\": \"xyz\",\n",
      "    \"age\": 45,\n",
      "    \"gender\": \"male\",\n",
      "    \"address\": {\n",
      "        \"state\": \"UP\",\n",
      "        \"country\": \"India\"\n",
      "    }\n",
      "}\n",
      "\n",
      "\n",
      "Printing using dumps() of yaml module:\n",
      "address:\n",
      "  country: India\n",
      "  state: UP\n",
      "age: 45\n",
      "gender: male\n",
      "name: xyz\n",
      "\n"
     ]
    }
   ],
   "source": [
    "import pprint\n",
    "import json\n",
    "import yaml\n",
    "\n",
    "dic = {'name':'xyz',\n",
    "       'age':45,\n",
    "       'gender':'male',\n",
    "       'address':{'state':'UP','country':'India'}}\n",
    "print('Printing using print():')\n",
    "print(dic)\n",
    "print('\\n')\n",
    "\n",
    "print('Printing using pprint() of pprint module:')\n",
    "pprint.pprint(dic)\n",
    "print('\\n')\n",
    "\n",
    "print('Printing using dumps() of  json module:')\n",
    "print(json.dumps(dic,indent=4))\n",
    "print('\\n')\n",
    "\n",
    "print('Printing using dumps() of yaml module:')\n",
    "print(yaml.dump(dic))"
   ]
  }
 ],
 "metadata": {
  "kernelspec": {
   "display_name": "Python 3 (ipykernel)",
   "language": "python",
   "name": "python3"
  },
  "language_info": {
   "codemirror_mode": {
    "name": "ipython",
    "version": 3
   },
   "file_extension": ".py",
   "mimetype": "text/x-python",
   "name": "python",
   "nbconvert_exporter": "python",
   "pygments_lexer": "ipython3",
   "version": "3.9.13"
  }
 },
 "nbformat": 4,
 "nbformat_minor": 5
}
