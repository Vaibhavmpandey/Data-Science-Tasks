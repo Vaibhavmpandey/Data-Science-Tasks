{
 "cells": [
  {
   "cell_type": "markdown",
   "id": "110aac15",
   "metadata": {},
   "source": [
    "### Q.1. What are keywords in python? Using the keyword library, print all the python keywords."
   ]
  },
  {
   "cell_type": "markdown",
   "id": "03a82c20",
   "metadata": {},
   "source": [
    "### Ans-1\n",
    "\n",
    "Keywords are reserved words in Python that have specific meaning and cannot be used as identifiers."
   ]
  },
  {
   "cell_type": "code",
   "execution_count": 1,
   "id": "70e46f65",
   "metadata": {},
   "outputs": [
    {
     "name": "stdout",
     "output_type": "stream",
     "text": [
      "['False', 'None', 'True', '__peg_parser__', 'and', 'as', 'assert', 'async', 'await', 'break', 'class', 'continue', 'def', 'del', 'elif', 'else', 'except', 'finally', 'for', 'from', 'global', 'if', 'import', 'in', 'is', 'lambda', 'nonlocal', 'not', 'or', 'pass', 'raise', 'return', 'try', 'while', 'with', 'yield']\n"
     ]
    }
   ],
   "source": [
    "import keyword\n",
    "\n",
    "all_keyword = keyword.kwlist\n",
    "print(all_keyword)"
   ]
  },
  {
   "cell_type": "markdown",
   "id": "77259998",
   "metadata": {},
   "source": [
    "### Q.2. What are the rules to create variables in python?"
   ]
  },
  {
   "cell_type": "markdown",
   "id": "25090e24",
   "metadata": {},
   "source": [
    "### Ans-2\n",
    "\n",
    "Rules to create variable in Python\n",
    "\n",
    "1- While declaring a variable the name of the variable should not be from the reserved keywords in Python.  \n",
    "2- Variable name can contain only letters (a-z,A-Z), digits and underscore( _ ).  \n",
    "3- Variable name must start with letter or underscore.  \n",
    "4- Variable names are case sensitive.  \n",
    "5- variable names cannot contain spaces  "
   ]
  },
  {
   "cell_type": "markdown",
   "id": "5036171d",
   "metadata": {},
   "source": [
    "### Q.3. What are the standards and conventions followed for the nomenclature of variables in python to improve code readability and maintainability?"
   ]
  },
  {
   "cell_type": "markdown",
   "id": "de6a6abc",
   "metadata": {},
   "source": [
    "### Ans-3\n",
    "\n",
    "Standard convenetions followed are:  \n",
    "1- We use snake_case to declare variable names in Python  \n",
    "2- For declaring constants whose value do not change during the execution of the program we use full capital letter words  \n",
    "3- Variable names should be descriptive that conveys its purpose  \n",
    "4- For declaring class names we use Camel cases  \n",
    "5- Single underscore before a variable name is used to convey that this variable is for internal purpose and should not be directly accessed outside the class.  "
   ]
  },
  {
   "cell_type": "markdown",
   "id": "c437f77e",
   "metadata": {},
   "source": [
    "### Q.4. What will happen if a keyword is used as a variable name?"
   ]
  },
  {
   "cell_type": "markdown",
   "id": "49b4da45",
   "metadata": {},
   "source": [
    "### Ans-4\n",
    "\n",
    "When we try to use a keyword as a variable name we will encounter a syntax error."
   ]
  },
  {
   "cell_type": "code",
   "execution_count": 2,
   "id": "21cb0337",
   "metadata": {},
   "outputs": [
    {
     "ename": "SyntaxError",
     "evalue": "invalid syntax (2600160483.py, line 1)",
     "output_type": "error",
     "traceback": [
      "\u001b[1;36m  File \u001b[1;32m\"C:\\Users\\vaibh\\AppData\\Local\\Temp\\ipykernel_8512\\2600160483.py\"\u001b[1;36m, line \u001b[1;32m1\u001b[0m\n\u001b[1;33m    and = 5\u001b[0m\n\u001b[1;37m    ^\u001b[0m\n\u001b[1;31mSyntaxError\u001b[0m\u001b[1;31m:\u001b[0m invalid syntax\n"
     ]
    }
   ],
   "source": [
    "and = 5"
   ]
  },
  {
   "cell_type": "markdown",
   "id": "1b06ec0d",
   "metadata": {},
   "source": [
    "### Q.5. For what purpose def keyword is used?"
   ]
  },
  {
   "cell_type": "markdown",
   "id": "8eb21630",
   "metadata": {},
   "source": [
    "### Ans-5\n",
    "\n",
    "def keyword is used in Python to create user defined functions.\n",
    "    "
   ]
  },
  {
   "cell_type": "code",
   "execution_count": 3,
   "id": "00797703",
   "metadata": {},
   "outputs": [],
   "source": [
    "def add_num(x,y):\n",
    "    return (x+y)"
   ]
  },
  {
   "cell_type": "code",
   "execution_count": 4,
   "id": "07d6554d",
   "metadata": {},
   "outputs": [
    {
     "name": "stdout",
     "output_type": "stream",
     "text": [
      "9\n"
     ]
    }
   ],
   "source": [
    "print(add_num(4,5))"
   ]
  },
  {
   "cell_type": "markdown",
   "id": "1dcc1bd2",
   "metadata": {},
   "source": [
    "### Q.6. What is the operation of this special character ‘\\’?"
   ]
  },
  {
   "cell_type": "markdown",
   "id": "a13201b9",
   "metadata": {},
   "source": [
    "### Ans-6\n",
    "\n",
    "'\\' is used to create escape sequences in Python, Different sequences are created by using different character after this backslash.  \n",
    "\n",
    "Examples  \n",
    "\n",
    "'\\n' -> Newline  \n",
    "'\\t' -> Tab  \n",
    "'\\\\' -> To print backslash '\\'  \n",
    "'\\\"' -> To print double quotes '\"'  "
   ]
  },
  {
   "cell_type": "code",
   "execution_count": 8,
   "id": "6b4cbdab",
   "metadata": {},
   "outputs": [
    {
     "name": "stdout",
     "output_type": "stream",
     "text": [
      "Hello World\n",
      "Hello \n",
      "World\n"
     ]
    }
   ],
   "source": [
    "print(\"Hello World\") \n",
    "print(\"Hello \\nWorld\") # \\n is used here for newline"
   ]
  },
  {
   "cell_type": "markdown",
   "id": "e77ad819",
   "metadata": {},
   "source": [
    "### Q.7. Give an example of the following conditions:\n",
    "### (i) Homogeneous list\n",
    "### (ii) Heterogeneous set\n",
    "### (iii) Homogeneous tuple"
   ]
  },
  {
   "cell_type": "markdown",
   "id": "70b57bf5",
   "metadata": {},
   "source": [
    "### Ans-7\n",
    "\n",
    "Homogeneous list - Every element in the list have same data type.\n",
    "Example-\n",
    "lst = [1,2,3,4]\n",
    "\n",
    "Heterogeneous list - Elements in the set is of different data type\n",
    "Example-\n",
    "set_1 = {42,\"Name\",1.2}\n",
    "\n",
    "Homogeneous tuple- Elements in the tuple are of same data type\n",
    "Example-\n",
    "tup = (\"Lion\",\"Cat\",\"Tiger\")\n"
   ]
  },
  {
   "cell_type": "code",
   "execution_count": 12,
   "id": "8059b75f",
   "metadata": {},
   "outputs": [
    {
     "name": "stdout",
     "output_type": "stream",
     "text": [
      "[1, 2, 3, 4]\n",
      "{1.2, 42, 'Name'}\n",
      "('Lion', 'Cat', 'Tiger')\n"
     ]
    }
   ],
   "source": [
    "# Homogeneous list\n",
    "\n",
    "lst = [1,2,3,4]\n",
    "print(lst)\n",
    "\n",
    "# Heterogeneous set\n",
    "\n",
    "set_1 = {42,\"Name\",1.2}\n",
    "print(set_1)\n",
    "\n",
    "# Homogeneous tuple\n",
    "\n",
    "tup = (\"Lion\",\"Cat\",\"Tiger\")\n",
    "print(tup)"
   ]
  },
  {
   "cell_type": "markdown",
   "id": "08787ee3",
   "metadata": {},
   "source": [
    "### Q.8. Explain the mutable and immutable data types with proper explanation & examples."
   ]
  },
  {
   "cell_type": "markdown",
   "id": "091492df",
   "metadata": {},
   "source": [
    "### Ans-8\n",
    "\n",
    "#### Mutable Datatype\n",
    "Mutable data type are those which once created can be changed later.For example when we create a list in Python we can later add more values to this list and can remove values from it as well.  \n",
    "\n",
    "Examples of Mutable data types:  \n",
    "List  \n",
    "Sets  \n",
    "Dictionary  \n",
    "\n",
    "#### Immutable Datatype\n",
    "Immutable Datatypes are those which once created there values cannot be changed. If we try to modify these immutable datatypes it will create a new object.  \n",
    "\n",
    "Example of Immutable data types:  \n",
    "Strings  \n",
    "Tuples  \n",
    "Numbers  \n",
    "\n"
   ]
  },
  {
   "cell_type": "code",
   "execution_count": 14,
   "id": "751ad014",
   "metadata": {},
   "outputs": [
    {
     "name": "stdout",
     "output_type": "stream",
     "text": [
      "[1, 2, 3, 4, 5, 6]\n",
      "[1, 2, 3, 4, 5, 6]\n"
     ]
    }
   ],
   "source": [
    "#Mutable list \n",
    "# We have created a list lst1 and then created a new list lst2 which references to list lst1. \n",
    "# Now when we have updated the lst1 then lst2 is also updated which is referring to lst1.\n",
    " \n",
    "\n",
    "lst1 = [1,2,3,4,5]\n",
    "lst2 = lst1\n",
    "lst1.append(6)\n",
    "print(lst1)\n",
    "print(lst2)\n",
    "\n"
   ]
  },
  {
   "cell_type": "code",
   "execution_count": 17,
   "id": "b268e7ab",
   "metadata": {},
   "outputs": [
    {
     "name": "stdout",
     "output_type": "stream",
     "text": [
      "Bangalore xyz\n",
      "Bangalore xyz\n"
     ]
    }
   ],
   "source": [
    "#Immutable list\n",
    "# We have created string variable name and another string variable addresss by concatenating a string with name variable.\n",
    "# Now we have updated the name variable but we find that address remains unchanged. \n",
    "# This is because when we are trying to update the name variable then a new object is created. \n",
    "\n",
    "\n",
    "name = \"xyz\"\n",
    "address = \"Bangalore \"+name\n",
    "print(address)\n",
    "name = \"abc\"\n",
    "print(address) # Remains unchanged"
   ]
  },
  {
   "cell_type": "markdown",
   "id": "cf224b61",
   "metadata": {},
   "source": [
    "### Q.9. Write a code to create the given structure using only for loop.\n"
   ]
  },
  {
   "cell_type": "code",
   "execution_count": 1,
   "id": "fc70f161",
   "metadata": {},
   "outputs": [],
   "source": [
    "#    *\n",
    "#   ***\n",
    "#  *****\n",
    "# *******\n",
    "#*********"
   ]
  },
  {
   "cell_type": "code",
   "execution_count": 33,
   "id": "ec6344b0",
   "metadata": {},
   "outputs": [
    {
     "name": "stdout",
     "output_type": "stream",
     "text": [
      "    *\n",
      "   ***\n",
      "  *****\n",
      " *******\n",
      "*********\n"
     ]
    }
   ],
   "source": [
    "row_num=5\n",
    "star_num=1\n",
    "space_num = row_num-1\n",
    "for i in range(1,row_num+1):\n",
    "    for i in range(space_num):\n",
    "        print(\" \",end=\"\")\n",
    "    space_num=space_num-1\n",
    "    for i in range(star_num):\n",
    "        print('*',end=\"\")\n",
    "    print()\n",
    "    star_num+=2"
   ]
  },
  {
   "cell_type": "markdown",
   "id": "709c2f5a",
   "metadata": {},
   "source": [
    "### Q.10. Write a code to create the given structure using while loop."
   ]
  },
  {
   "cell_type": "code",
   "execution_count": 2,
   "id": "e3c5d5e2",
   "metadata": {},
   "outputs": [],
   "source": [
    "#|||||||||\n",
    "# |||||||\n",
    "#  |||||\n",
    "#   |||\n",
    "#    |"
   ]
  },
  {
   "cell_type": "code",
   "execution_count": 47,
   "id": "f1f1d323",
   "metadata": {},
   "outputs": [
    {
     "name": "stdout",
     "output_type": "stream",
     "text": [
      "/////////\n",
      " ///////\n",
      "  /////\n",
      "   ///\n",
      "    /\n"
     ]
    }
   ],
   "source": [
    "row_num = 5\n",
    "space_num = 0\n",
    "pat_num = row_num*2-1\n",
    "\n",
    "while (row_num>0):\n",
    "    space = space_num\n",
    "    while(space>0):\n",
    "        print(\" \",end=\"\")\n",
    "        space-=1\n",
    "    space_num+=1\n",
    "    \n",
    "    pattern_num = row_num*2-1\n",
    "    while(pattern_num>0):\n",
    "        print(\"/\",end=\"\")\n",
    "        pattern_num-=1\n",
    "    print()\n",
    "    row_num-=1\n",
    "    \n",
    "    \n",
    "\n"
   ]
  }
 ],
 "metadata": {
  "kernelspec": {
   "display_name": "Python 3 (ipykernel)",
   "language": "python",
   "name": "python3"
  },
  "language_info": {
   "codemirror_mode": {
    "name": "ipython",
    "version": 3
   },
   "file_extension": ".py",
   "mimetype": "text/x-python",
   "name": "python",
   "nbconvert_exporter": "python",
   "pygments_lexer": "ipython3",
   "version": "3.9.13"
  }
 },
 "nbformat": 4,
 "nbformat_minor": 5
}
