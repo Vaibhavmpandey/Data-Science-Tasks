{
 "cells": [
  {
   "cell_type": "markdown",
   "id": "e273bfcd",
   "metadata": {},
   "source": [
    "### Q.1. Create two int type variables, apply addition, subtraction, division and multiplications and store the results in variables. Then print the data in the following format by calling the variables:  \n",
    "First variable is __ & second variable is __.  \n",
    "Addition: __ + __ = __  \n",
    "Subtraction: __ - __ = __  \n",
    "Multiplication: __ * __ = __  \n",
    "Division: __ / __ = __  "
   ]
  },
  {
   "cell_type": "markdown",
   "id": "43e97d32",
   "metadata": {},
   "source": [
    "### Ans-1"
   ]
  },
  {
   "cell_type": "code",
   "execution_count": 24,
   "id": "f09bdbfb",
   "metadata": {},
   "outputs": [
    {
     "name": "stdout",
     "output_type": "stream",
     "text": [
      "First variable is 20 & second variable is 10\n",
      "Addition: 20 + 10 = 30\n",
      "Subtraction: 20 - 10 = 10\n",
      "Multiplication: 20 * 10 = 200\n",
      "Division: 20 / 10 = 2.0\n"
     ]
    }
   ],
   "source": [
    "num1 =20\n",
    "num2 = 10\n",
    "add_num = num1+num2\n",
    "sub_num = num1-num2\n",
    "mul_num = num1*num2\n",
    "div_num = num1/num2\n",
    "\n",
    "print(f\"First variable is {num1} & second variable is {num2}\")\n",
    "print(f\"Addition: {num1} + {num2} = {add_num}\")\n",
    "print(f\"Subtraction: {num1} - {num2} = {sub_num}\")\n",
    "print(f\"Multiplication: {num1} * {num2} = {mul_num}\")\n",
    "print(f\"Division: {num1} / {num2} = {div_num}\")\n",
    "\n"
   ]
  },
  {
   "cell_type": "markdown",
   "id": "31fec8ef",
   "metadata": {},
   "source": [
    "### Q.2. What is the difference between the following operators:  \n",
    "(i) ‘/’ & ‘//’  \n",
    "(ii) ‘**’ & ‘^’  "
   ]
  },
  {
   "cell_type": "markdown",
   "id": "668c0239",
   "metadata": {},
   "source": [
    "### Ans-2\n",
    "\n",
    "(i)   \n",
    "'/' - This is used for normal division operation.  \n",
    "'//' - This number divides the two number and returns only the integer part of the result.  \n",
    "\n",
    "(ii)  \n",
    "'**' - This is used for taking the powers of the number.   \n",
    "'^' - This is used for taking the bitwise XOR of the two numbers.  "
   ]
  },
  {
   "cell_type": "code",
   "execution_count": 5,
   "id": "5e527c13",
   "metadata": {},
   "outputs": [
    {
     "name": "stdout",
     "output_type": "stream",
     "text": [
      "2.5\n",
      "2\n",
      "10000\n",
      "14\n"
     ]
    }
   ],
   "source": [
    "num1 = 10\n",
    "num2 = 4\n",
    "\n",
    "print(num1/num2) # 10/4=2.5\n",
    "print(num1//num2) # 10//4 = 2 Only the integer part\n",
    "print(num1**num2) # 10**4 = 10000\n",
    "print(num1^num2) # 1010^0100 = 1110"
   ]
  },
  {
   "cell_type": "markdown",
   "id": "41c71a0e",
   "metadata": {},
   "source": [
    "### Q.3. List the logical operators."
   ]
  },
  {
   "cell_type": "markdown",
   "id": "4bc21435",
   "metadata": {},
   "source": [
    "### Ans-3\n",
    "The logical operators used in Python are:  \n",
    "'AND' - The AND operator returns TRUE if both the opearands are TRUE and return FALSE if any one of them is FALSE.\n",
    "'OR' - OR return TRUE if atleast one of the two operands are TRUE.  \n",
    "'NOT' - NOT return TRUE if given operand is FALSE and it returns FALSE if given operand is TRUE.  "
   ]
  },
  {
   "cell_type": "code",
   "execution_count": 14,
   "id": "2a053b7e",
   "metadata": {},
   "outputs": [
    {
     "name": "stdout",
     "output_type": "stream",
     "text": [
      "Example for and\n",
      "True and True is True\n",
      "True and False is False\n",
      "False and True is False\n",
      "False and False is False\n",
      "\n",
      "Example for or\n",
      "True or True is True\n",
      "True or False is True\n",
      "False or True is True\n",
      "False or False is False\n",
      "\n",
      "Example for Not\n",
      "not True False\n",
      "not False True\n"
     ]
    }
   ],
   "source": [
    "print('Example for and')\n",
    "print(f'True and True is {True and True}')\n",
    "print(f'True and False is {True and False}')\n",
    "print(f'False and True is {False and True}')\n",
    "print(f'False and False is {False and False}')\n",
    "print()\n",
    "\n",
    "print('Example for or')\n",
    "print(f'True or True is {True or True}')\n",
    "print(f'True or False is {True or False}')\n",
    "print(f'False or True is {False or True}')\n",
    "print(f'False or False is {False or False}')\n",
    "print()\n",
    "\n",
    "print('Example for Not')\n",
    "print(f'not True {not True}')\n",
    "print(f'not False {not False}')"
   ]
  },
  {
   "cell_type": "markdown",
   "id": "9095bd37",
   "metadata": {},
   "source": [
    "### Q.4. Explain right shift operator and left shift operator with examples."
   ]
  },
  {
   "cell_type": "markdown",
   "id": "a076f315",
   "metadata": {},
   "source": [
    "### Ans-4\n",
    "These operators are used to perform bitwise operations on integers  \n",
    "\n",
    "1- Right Shift Operator - This will shift the bits towards the right  \n",
    "2- Left Shift Operator - This will shift the bits towards the left  "
   ]
  },
  {
   "cell_type": "code",
   "execution_count": 23,
   "id": "ad05ccb2",
   "metadata": {},
   "outputs": [
    {
     "name": "stdout",
     "output_type": "stream",
     "text": [
      "8\n",
      "Right Shift by 2\n",
      "2\n",
      "\n",
      "3\n",
      "Left Shift by 2\n",
      "12\n"
     ]
    }
   ],
   "source": [
    "x = 8   # Binary 1000\n",
    "print(x)\n",
    "print('Right Shift by 2')\n",
    "print(x>>2) # 0010\n",
    "print()\n",
    "x = 3 # Binary 0011\n",
    "print(x)\n",
    "print('Left Shift by 2')\n",
    "x = 3 # Binary 0011\n",
    "print(x<<2) # 1100\n"
   ]
  },
  {
   "cell_type": "markdown",
   "id": "00513b23",
   "metadata": {},
   "source": [
    "### Q.5. Create a list containing int type data of length 15. Then write a code to check if 10 is present in the list or not."
   ]
  },
  {
   "cell_type": "markdown",
   "id": "e43a4d68",
   "metadata": {},
   "source": [
    "### Ans-5"
   ]
  },
  {
   "cell_type": "code",
   "execution_count": 26,
   "id": "4b53b945",
   "metadata": {},
   "outputs": [
    {
     "name": "stdout",
     "output_type": "stream",
     "text": [
      "10 is present in the list\n"
     ]
    }
   ],
   "source": [
    "lst = [1, 3, 5, 7, 9, 10, 12, 14, 16, 18, 20, 22, 24, 26, 28]\n",
    "\n",
    "if 10 in lst:\n",
    "    print('10 is present in the list')\n",
    "else:\n",
    "    print('10 is not present in the list')"
   ]
  }
 ],
 "metadata": {
  "kernelspec": {
   "display_name": "Python 3 (ipykernel)",
   "language": "python",
   "name": "python3"
  },
  "language_info": {
   "codemirror_mode": {
    "name": "ipython",
    "version": 3
   },
   "file_extension": ".py",
   "mimetype": "text/x-python",
   "name": "python",
   "nbconvert_exporter": "python",
   "pygments_lexer": "ipython3",
   "version": "3.9.13"
  }
 },
 "nbformat": 4,
 "nbformat_minor": 5
}
